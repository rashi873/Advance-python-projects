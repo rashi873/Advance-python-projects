{
 "cells": [
  {
   "cell_type": "markdown",
   "id": "f3ed44db-4e56-40ba-8063-1c4a2c34fbf1",
   "metadata": {},
   "source": [
    "## WIKIPEDIA SCRAPPING USING PYTHON"
   ]
  },
  {
   "cell_type": "code",
   "execution_count": 6,
   "id": "7ad677e9-1c35-443b-b6af-9354ca315625",
   "metadata": {},
   "outputs": [],
   "source": [
    "import wikipedia as wiki "
   ]
  },
  {
   "cell_type": "code",
   "execution_count": 8,
   "id": "95f0dedf-7ba9-45e9-8e78-4166ec59f31d",
   "metadata": {},
   "outputs": [
    {
     "name": "stdout",
     "output_type": "stream",
     "text": [
      "['Python', 'Monty Python', 'Python (programming language)', 'Reticulated python', 'Python (codename)', 'Ball python', 'Monty Python and the Holy Grail', 'Burmese python', 'Python (missile)', 'History of Python']\n"
     ]
    }
   ],
   "source": [
    "print(wiki.search(\"Python\"))"
   ]
  },
  {
   "cell_type": "code",
   "execution_count": 24,
   "id": "e4a0dd2e-9830-47e8-851b-774712823e20",
   "metadata": {},
   "outputs": [
    {
     "name": "stdout",
     "output_type": "stream",
     "text": [
      "Python is a high-level, general-purpose programming language. Its design philosophy emphasizes code readability with the use of significant indentation.\n",
      "Python is dynamically type-checked and garbage-collected. It supports multiple programming paradigms, including structured (particularly procedural), object-oriented and functional programming. It is often described as a \"batteries included\" language due to its comprehensive standard library.\n",
      "Guido van Rossum began working on Python in the late 1980s as a successor to the ABC programming language, and he first released it in 1991 as Python 0.9.0. Python 2.0 was released in 2000. Python 3.0, released in 2008, was a major revision not completely backward-compatible with earlier versions. Python 2.7.18, released in 2020, was the last release of Python 2.\n",
      "Python consistently ranks as one of the most popular programming languages, and it has gained widespread use in the machine learning community.\n",
      "\n",
      "\n"
     ]
    }
   ],
   "source": [
    "print(wiki.summary(\"Python(programming language)\"))"
   ]
  },
  {
   "cell_type": "code",
   "execution_count": 26,
   "id": "4f74a53d-0c10-4106-8bc1-9e5da186763f",
   "metadata": {},
   "outputs": [
    {
     "name": "stdout",
     "output_type": "stream",
     "text": [
      "IDLE, Kurzform für „Integrated Development and Learning Environment“, ist die seit 1998 dem Installer für die Programmiersprache Python beigegebene leichtgewichtige integrierte Entwicklungsumgebung (IDE). Sie ist vollständig in Python und dem Tkinter GUI-Toolkit, einem Wrapper für Tcl/Tk, geschrieben.\n",
      "IDLE ist als einfache IDE gedacht und eignet sich für Anfänger, auch im Bildungsumfeld. Zu diesem Zweck ist sie plattformübergreifend und vermeidet eine Überladung mit komplizierten Funktionalitäten.\n",
      "Die Hauptfunktionen sind:\n",
      "\n",
      "plattformübergreifend: funktioniert unter Windows, Unix und macOS weitgehend identisch.\n",
      "Python-Shell-Fenster (interaktiver Interpreter) mit Einfärbung von Codeeingaben, Ausgaben und Fehlermeldungen.\n",
      "Multi-Fenster-Text-Editor mit mehrfacher Rückgängigmachung, automatische Einrückung und Einfärbung des Quellcodes, Autovervollständigung und anderen Funktionen.\n",
      "Suchen in jedem Fenster, Ersetzen in Editorfenstern und Durchsuchen mehrerer Dateien.\n",
      "Debugger mit persistenten Haltepunkten, Stepping und Anzeige von globalen und lokalen Namensräumen.\n",
      "mehrere Dialogboxen für verschiedenste Funktionen und Konfigurationen.\n"
     ]
    }
   ],
   "source": [
    "wiki.set_lang(\"de\")\n",
    "print(wiki.summary(\"Python(programming language)\"))"
   ]
  },
  {
   "cell_type": "code",
   "execution_count": 30,
   "id": "78c786d8-7fe4-4420-a0d3-7cd65a6e3635",
   "metadata": {},
   "outputs": [
    {
     "name": "stdout",
     "output_type": "stream",
     "text": [
      "किसी मशीन (प्रायः संगणक) के व्यवहार को नियंत्रित करने के लिये प्रोग्रामिंग भाषाओं का प्रयोग किया जाता है। प्राकृतिक भाषाओं की भांति प्रोग्रामन भाषाओं के भी सिन्टैक्स और सिमैन्टिक्स होते हैं।\n",
      "इस समय हजारों प्रोग्रामन भाषाएं प्रकाश में हैं। इनमें से कुछ भाषाएँ बहुत लोकप्रिय हैं जिनको बहुत सारे लोक प्रयोग में लाते हैं। दूसरी तरफ यह भी सत्य है कि अनेक प्रोग्रामर दर्जनों भाषाओं में काम करते हैं।\n"
     ]
    }
   ],
   "source": [
    "wiki.set_lang(\"hi\")\n",
    "\n",
    "print(wiki.summary(\"Python(programming language)\"))"
   ]
  },
  {
   "cell_type": "code",
   "execution_count": 32,
   "id": "cd2c6752-6d25-4df6-9f8b-d45d4c962403",
   "metadata": {},
   "outputs": [
    {
     "name": "stdout",
     "output_type": "stream",
     "text": [
      "సాఫ్టువేరు వ్రాయు భాషలను ప్రధానంగా 2 వర్గాలుగా విభజించవచ్చును.\n",
      "\n",
      "ప్రోగ్రామింగ్ భాషలు\n",
      "స్క్రిప్టింగ్ భాషలు\n",
      "స్క్రిప్టింగ్ భాష: దీనిని ప్రధానంగా సాఫ్టువేరు అనువర్తనాల్ని (Software application) నియంత్రించుటకై వాడుతారు. \"స్క్రిప్ట్\" లను సాధారణ ప్రోగ్రాములనుండి వేరుచేయటానికి ప్రధాన కారణం, వీటిని అప్లికేషన్ తో నిమిత్తం లేకుండా ఎక్జిక్యూట్ చేయగలగడం, ఇంకా కంపైలేషన్ లేకుండా ఇంటర్ప్రిటేషన్ మాత్రమే చేయటం మొదలగునవిగా చెప్పుకోవచ్చు.\n"
     ]
    }
   ],
   "source": [
    "wiki.set_lang(\"te\")\n",
    "\n",
    "print(wiki.summary(\"Python(programming language)\"))"
   ]
  },
  {
   "cell_type": "code",
   "execution_count": 34,
   "id": "25bd2603-903b-4725-903e-cdeb3eb3b2ac",
   "metadata": {},
   "outputs": [
    {
     "name": "stdout",
     "output_type": "stream",
     "text": [
      "Python (prononcé /pi.tɔ̃/) est un langage de programmation interprété, multiparadigme et multiplateformes. Il favorise la programmation impérative structurée, fonctionnelle et orientée objet. Il est doté d'un typage dynamique fort, d'une gestion automatique de la mémoire par ramasse-miettes et d'un système de gestion d'exceptions ; il est ainsi similaire à Perl, Ruby, Scheme, Smalltalk et Tcl.\n",
      "Le langage Python est placé sous une licence libre proche de la licence BSD et fonctionne sur la plupart des plateformes informatiques, des smartphones aux ordinateurs centraux, de Windows à Unix avec notamment GNU/Linux en passant par macOS, ou encore Android, iOS, et peut aussi être traduit en Java ou .NET. Il est conçu pour optimiser la productivité des programmeurs en offrant des outils de haut niveau et une syntaxe simple à utiliser.\n",
      "Il est également apprécié par certains pédagogues qui y trouvent un langage où la syntaxe, clairement séparée des mécanismes de bas niveau, permet une initiation aisée aux concepts de base de la programmation. Selon l'Index TIOBE, notamment en raison de son efficacité pour l'apprentissage automatique, sa popularité va croissante ; et en 2022 n'a toujours pas montré de signe de ralentissement.\n"
     ]
    }
   ],
   "source": [
    "wiki.set_lang(\"fr\")\n",
    "\n",
    "print(wiki.summary(\"Python(programming language)\"))"
   ]
  },
  {
   "cell_type": "code",
   "execution_count": 56,
   "id": "3900d73d-3528-4919-851a-45be6da46990",
   "metadata": {},
   "outputs": [
    {
     "name": "stdout",
     "output_type": "stream",
     "text": [
      "Python (programming language)\n"
     ]
    }
   ],
   "source": [
    "wiki.set_lang(\"en\")\n",
    "p = wiki.page(\"Python(programming language)\")\n",
    "print(p.title)"
   ]
  },
  {
   "cell_type": "code",
   "execution_count": 58,
   "id": "aea16195-744c-40d0-bd5e-e99170aba2e9",
   "metadata": {},
   "outputs": [
    {
     "name": "stdout",
     "output_type": "stream",
     "text": [
      "https://en.wikipedia.org/wiki/Python_(programming_language)\n"
     ]
    }
   ],
   "source": [
    "print(p.url)"
   ]
  },
  {
   "cell_type": "code",
   "execution_count": 60,
   "id": "a8727975-bd9d-4b0a-b933-03ed9359459e",
   "metadata": {},
   "outputs": [
    {
     "name": "stdout",
     "output_type": "stream",
     "text": [
      "Python is a high-level, general-purpose programming language. Its design philosophy emphasizes code readability with the use of significant indentation.\n",
      "Python is dynamically type-checked and garbage-collected. It supports multiple programming paradigms, including structured (particularly procedural), object-oriented and functional programming. It is often described as a \"batteries included\" language due to its comprehensive standard library.\n",
      "Guido van Rossum began working on Python in the late 1980s as a successor to the ABC programming language, and he first released it in 1991 as Python 0.9.0. Python 2.0 was released in 2000. Python 3.0, released in 2008, was a major revision not completely backward-compatible with earlier versions. Python 2.7.18, released in 2020, was the last release of Python 2.\n",
      "Python consistently ranks as one of the most popular programming languages, and it has gained widespread use in the machine learning community.\n",
      "\n",
      "\n",
      "== History ==\n",
      "\n",
      "Python was conceived in the late 1980s by Guido van Rossum at Centrum Wiskunde & Informatica (CWI) in the Netherlands; it was conceived as a successor to the ABC programming language, which was inspired by SETL, capable of exception handling and interfacing with the Amoeba operating system. Python implementation began in December 1989. Van Rossum assumed sole responsibility for the project, as the lead developer, until 12 July 2018, when he announced his \"permanent vacation\" from responsibilities as Python's \"benevolent dictator for life\" (BDFL); this title was bestowed on him by the Python community to reflect his long-term commitment as the project's chief decision-maker. (He has since come out of retirement and is self-titled \"BDFL-emeritus\".) In January 2019, active Python core developers elected a five-member Steering Council to lead the project.\n",
      "The name Python is said to derive from the British comedy series Monty Python's Flying Circus.\n",
      "Python 2.0 was released on 16 October 2000, with many major new features such as list comprehensions, cycle-detecting garbage collection, reference counting, and Unicode support. Python 2.7's end-of-life was initially set for 2015, and then postponed to 2020 out of concern that a large body of existing code could not easily be forward-ported to Python 3. It no longer receives security patches or updates. While Python 2.7 and older versions are officially unsupported, a different unofficial Python implementation, PyPy, continues to support Python 2, i.e., \"2.7.18+\" (plus 3.10), with the plus signifying (at least some) \"backported security updates\".\n",
      "Python 3.0 was released on 3 December 2008, with some new semantics and changed syntax. At least every Python release since (the now unsupported) 3.5 has added some syntax to the language; a few later releases have removed outdated modules and have changed semantics, at least in a minor way.\n",
      "As of 8 April 2025, Python 3.13.3 is the latest stable release (it's highly recommended to upgrade to it, or upgrade any other older 3.x release). This version currently receives full bug-fix and security updates, while Python 3.12—released in October 2023—had active bug-fix support only until April 2025, and since then only security fixes. Python 3.9 is the oldest supported version of Python (albeit in the 'security support' phase), because Python 3.8 has become an end-of-life product. Starting with Python 3.13, it and later versions receive two years of full support (which has increased from one and a half years), followed by three years of security support; this is the same total duration of support as previously.\n",
      "Security updates were expedited in 2021 and again twice in 2022. More issues were fixed in 2023 and in September 2024 (for Python versions 3.8.20 through 3.12.6)—all versions (including 2.7) had been insecure because of issues leading to possible remote code execution and web-cache poisoning.   \n",
      "Python 3.10 added the | union type operator and added structural pattern matching capability to the language, with the new match and case keywords. Python 3.11 expanded exception handling functionality. Python 3.12 added the new keyword type. Notable changes from version 3.10 to 3.11 include increased program execution speed and improved error reporting. Python 3.11 is claimed to be 10–60% faster than Python 3.10, and Python 3.12 increases by an additional 5%. Python 3.12 also includes improved error messages (again improved in 3.14) and many other changes.\n",
      "Python 3.13 introduced more syntax for types; a new and improved interactive interpreter (REPL), featuring multi-line editing and color support; an incremental garbage collector, which results in shorter pauses for collection in programs that have many objects, as well as increasing the improved speed in 3.11 and 3.12);  an experimental just-in-time (JIT) compiler (such features need to be enabled specifically for the increase in speed); and an experimental free-threaded build mode, which disables the global interpreter lock (GIL), allowing threads to run more concurrently, as enabled inpython3.13t or python3.13t.exe.\n",
      "Python Enhancement Proposal (PEP) 711 proposes PyBI—a standard format for distributing Python binaries.\n",
      "Python 3.14.0 is now in the beta 1 phase (introduces e.g. a new opt-in interpreter, up to 30% faster).\n",
      "Python 3.15 will \"Make UTF-8 mode default\"; This mode is supported in all current Python versions, but it currently must be opted into. UTF-8 is already used by default on Windows (and other operating systems) for most purposes; an exception is opening files. Enabling UTF-8 also makes code fully cross-platform.\n",
      "\n",
      "Potentially breaking changes\n",
      "Python 3.0 introduced very breaking changes, but all breaking changes in 3.x discussed below, are designed to affect few users.\n",
      "Python 3.12 dropped some outdated modules, and more will be dropped in the future, deprecated as of 3.13; already deprecated array 'u' format code will emit DeprecationWarning since 3.13 and will be removed in Python 3.16. The 'w' format code should be used instead. Part of ctypes is also deprecated and http.server.CGIHTTPRequestHandler will emit a DeprecationWarning, and will be removed in 3.15. Using that code already has a high potential for both security and functionality bugs. Parts of the typing module are deprecated, e.g. creating a typing.NamedTuple class using keyword arguments to denote the fields and such (and more) will be disallowed in Python 3.15. Python 3.12 removed wstr meaning Python extensions need to be modified.\n",
      "Python 3.13 introduces some changes in behavior, i.e., new \"well-defined semantics\", fixing bugs, and removing many deprecated classes, functions and methods (as well as some of the Python/C API and outdated modules). \"The  old implementation of locals() and frame.f_locals was slow, inconsistent and buggy,  and it had many corner cases and oddities. Code that works around those may need revising; code that uses locals() for simple templating or print debugging should continue to work correctly.\"\n",
      "Python 3.13 introduces the experimental free-threaded build mode, which disables the Global Interpreter Lock (GIL); the GIL is a feature of CPython that previously prevented multiple threads from executing Python bytecode simultaneously. This optional build, introduced through PEP 703, enables better exploitation of multi-core CPUs. By allowing multiple threads to run Python code in parallel, the free-threaded mode addresses long-standing performance bottlenecks associated with the GIL. This change offers a new path for parallelism in Python, without resorting to multiprocessing or external concurrency frameworks.\n",
      "Regarding annotations in upcoming Python version: \"In Python 3.14, from __future__ import annotations will continue to work as it did before, converting annotations into strings.\"\n",
      "Python 3.14 drops the PGP digital verification signatures, it had deprecated in version 3.11, when its replacement Sigstore was added for all CPython artifacts; the use of PGP has been criticized by security practitioners.\n",
      "Some additional standard-library modules will be removed in Python 3.15 or 3.16, as will be many deprecated classes, functions and methods.\n",
      "\n",
      "\n",
      "== Design philosophy and features ==\n",
      "Python is a multi-paradigm programming language. Object-oriented programming and structured programming are fully supported, and many of their features support functional programming and aspect-oriented programming (including metaprogramming and metaobjects). Many other paradigms are supported via extensions, including design by contract and logic programming. Python is often referred to as a 'glue language' because it can seamlessly integrate components written in other languages.\n",
      "Python uses dynamic typing and a combination of reference counting and a cycle-detecting garbage collector for memory management. It uses dynamic name resolution (late binding), which binds method and variable names during program execution.\n",
      "Python's design offers some support for functional programming in the Lisp tradition. It has filter,mapandreduce functions; list comprehensions, dictionaries, sets, and generator expressions. The standard library has two modules (itertools and functools) that implement functional tools borrowed from Haskell and Standard ML.\n",
      "Python's core philosophy is summarized in the Zen of Python (PEP 20), which includes aphorisms such as these:\n",
      "\n",
      "Beautiful is better than ugly.\n",
      "Explicit is better than implicit.\n",
      "Simple is better than complex.\n",
      "Complex is better than complicated.\n",
      "Readability counts.\n",
      "However, Python features regularly violate these principles and have received criticism for adding unnecessary language bloat. Responses to these criticisms note that the Zen of Python is a guideline rather than a rule. The addition of some new features had been controversial: Guido van Rossum resigned as Benevolent Dictator for Life after conflict about adding the assignment expression operator in Python 3.8.\n",
      "Nevertheless, rather than building all functionality into its core, Python was designed to be highly extensible via modules. This compact modularity has made it particularly popular as a means of adding programmable interfaces to existing applications. Van Rossum's vision of a small core language with a large standard library and easily extensible interpreter stemmed from his frustrations with ABC, which represented the opposite approach.\n",
      "Python claims to strive for a simpler, less-cluttered syntax and grammar, while giving developers a choice in their coding methodology. In contrast to Perl's motto \"there is more than one way to do it\", Python advocates an approach where \"there should be one—and preferably only one—obvious way to do it.\". In practice, however, Python provides many ways to achieve a given goal. There are, for example, at least three ways to format a string literal, with no certainty as to which one a programmer should use. Alex Martelli is a Fellow at the Python Software Foundation and Python book author; he wrote that \"To describe something as 'clever' is not considered a compliment in the Python culture.\"\n",
      "Python's developers usually try to avoid premature optimization; they also reject patches to non-critical parts of the CPython reference implementation that would offer marginal increases in speed at the cost of clarity. Execution speed can be improved by moving speed-critical functions to extension modules written in languages such as C, or by using a just-in-time compiler like PyPy. It is also possible to cross-compile to other languages; but this approach either fails to achieve the expected speed-up, since Python is a very dynamic language, or only a restricted subset of Python is compiled (with potential minor semantic changes).\n",
      "Python's developers aim for the language to be fun to use. This goal is reflected in the name—a tribute to the British comedy group Monty Python—and in playful approaches to some tutorials and reference materials. For instance, some code examples use the terms \"spam\" and \"eggs\" (in reference to a Monty Python sketch), rather than the typical terms \"foo\" and \"bar\". A common neologism in the Python community is pythonic, which has a wide range of meanings related to program style. Pythonic code may use Python idioms well; be natural or show fluency in the language; or conform with Python's minimalist philosophy and emphasis on readability.\n",
      "\n",
      "\n",
      "== Syntax and semantics ==\n",
      "\n",
      "Python is meant to be an easily readable language. Its formatting is visually uncluttered and often uses English keywords where other languages use punctuation. Unlike many other languages, it does not use curly brackets to delimit blocks, and semicolons after statements are allowed but rarely used. It has fewer syntactic exceptions and special cases than C or Pascal.\n",
      "\n",
      "\n",
      "=== Indentation ===\n",
      "\n",
      "Python uses whitespace indentation, rather than curly brackets or keywords, to delimit blocks. An increase in indentation comes after certain statements; a decrease in indentation signifies the end of the current block. Thus, the program's visual structure accurately represents its semantic structure. This feature is sometimes termed the off-side rule. Some other languages use indentation this way; but in most, indentation has no semantic meaning. The recommended indent size is four spaces.\n",
      "\n",
      "\n",
      "=== Statements and control flow ===\n",
      "Python's statements include the following:\n",
      "\n",
      "The assignment statement, using a single equals sign =\n",
      "The if statement, which conditionally executes a block of code, along with else and elif (a contraction of else if)\n",
      "The for statement, which iterates over an iterable object, capturing each element to a local variable for use by the attached block\n",
      "The while statement, which executes a block of code as long as its condition is true\n",
      "The try statement, which allows exceptions raised in its attached code block to be caught and handled by except clauses (or new syntax except* in Python 3.11 for exception groups); the try statement also ensures that clean-up code in a finally block is always run regardless of how the block exits\n",
      "The raise statement, used to raise a specified exception or re-raise a caught exception\n",
      "The class statement, which executes a block of code and attaches its local namespace to a class, for use in object-oriented programming\n",
      "The def statement, which defines a function or method\n",
      "The with statement, which encloses a code block within a context manager, allowing resource-acquisition-is-initialization (RAII)-like behavior and replacing a common try/finally idiom Examples of a context include acquiring a lock before some code is run, and then releasing the lock; or opening and then closing a file\n",
      "The break statement, which exits a loop\n",
      "The continue statement, which skips the rest of the current iteration and continues with the next\n",
      "The del statement, which removes a variable—deleting the reference from the name to the value, and producing an error if the variable is referred to before it is redefined \n",
      "The pass statement, serving as a NOP (i.e., no operation), which is syntactically needed to create an empty code block\n",
      "The assert statement, used in debugging to check for conditions that should apply\n",
      "The yield statement, which returns a value from a generator function (and also an operator); used to implement coroutines\n",
      "The return statement, used to return a value from a function\n",
      "The import and from statements, used to import modules whose functions or variables can be used in the current program\n",
      "The match and case statements, analogous to a switch statement construct, which compares an expression against one or more cases as a control-flow measure\n",
      "The assignment statement (=) binds a name as a reference to a separate, dynamically allocated object. Variables may subsequently be rebound at any time to any object. In Python, a variable name is a generic reference holder without a fixed data type; however, it always refers to some object with a type. This is called dynamic typing—in contrast to statically-typed languages, where each variable may contain only a value of a certain type.\n",
      "Python does not support tail call optimization or first-class continuations; according to Van Rossum, the language never will. However, better support for coroutine-like functionality is provided by extending Python's generators. Before 2.5, generators were lazy iterators; data was passed unidirectionally out of the generator. From Python 2.5 on, it is possible to pass data back into a generator function; and from version 3.3, data can be passed through multiple stack levels.\n",
      "\n",
      "\n",
      "=== Expressions ===\n",
      "Python's expressions include the following:\n",
      "\n",
      "The +, -, and * operators for mathematical addition, subtraction, and multiplication are similar to other languages, but the behavior of division differs. There are two types of division in Python: floor division (or integer division) //, and floating-point division /. Python uses the ** operator for exponentiation.\n",
      "Python uses the + operator for string concatenation. The language uses the * operator for duplicating a string a specified number of times.\n",
      "The @ infix operator is intended to be used by libraries such as NumPy for matrix multiplication.\n",
      "The syntax :=, called the \"walrus operator\", was introduced in Python 3.8. This operator assigns values to variables as part of a larger expression.\n",
      "In Python, == compares two objects by value. Python's is operator may be used to compare object identities (i.e., comparison by reference), and comparisons may be chained—for example, a <= b <= c.\n",
      "Python uses and, or, and not as Boolean operators.\n",
      "Python has a type of expression called a list comprehension, and a more general expression called a generator expression.\n",
      "Anonymous functions are implemented using lambda expressions; however, there may be only one expression in each body.\n",
      "Conditional expressions are written as x if c else y. (This is different in operand order from the c ? x : y operator common to many other languages.)\n",
      "Python makes a distinction between lists and tuples. Lists are written as [1, 2, 3], are mutable, and cannot be used as the keys of dictionaries (since dictionary keys must be immutable in Python). Tuples, written as (1, 2, 3), are immutable and thus can be used as the keys of dictionaries, provided that all of the tuple's elements are immutable. The + operator can be used to concatenate two tuples, which does not directly modify their contents, but produces a new tuple containing the elements of both. For example, given the variable t initially equal to (1, 2, 3), executing t = t + (4, 5) first evaluates t + (4, 5), which yields (1, 2, 3, 4, 5); this result is then assigned back to t—thereby effectively \"modifying the contents\" of t while conforming to the immutable nature of tuple objects. Parentheses are optional for tuples in unambiguous contexts.\n",
      "Python features sequence unpacking where multiple expressions, each evaluating to something assignable (e.g., a variable or a writable property) are associated just as in forming tuple literal; as a whole, the results are then put on the left-hand side of the equal sign in an assignment statement. This statement expects an iterable object on the right-hand side of the equal sign to produce the same number of values as the writable expressions on the left-hand side; while iterating, the statement assigns each of the values produced on the right to the corresponding expression on the left.\n",
      "Python has a \"string format\" operator % that functions analogously to printf format strings in the C language—e.g. \"spam=%s eggs=%d\" % (\"blah\", 2) evaluates to \"spam=blah eggs=2\". In Python 2.6+ and 3+, this operator was supplemented by the format() method of the str class, e.g., \"spam={0} eggs={1}\".format(\"blah\", 2). Python 3.6 added \"f-strings\": spam = \"blah\"; eggs = 2; f'spam={spam} eggs={eggs}'.\n",
      "Strings in Python can be concatenated by \"adding\" them (using the same operator as for adding integers and floats); e.g., \"spam\" + \"eggs\" returns \"spameggs\". If strings contain numbers, they are concatenated as strings rather than as integers, e.g. \"2\" + \"2\" returns \"22\".\n",
      "Python supports string literals in several ways:\n",
      "Delimited by single or double quotation marks; single and double quotation marks have equivalent functionality (unlike in Unix shells, Perl, and Perl-influenced languages). Both marks use the backslash (\\) as an escape character. String interpolation became available in Python 3.6 as \"formatted string literals\".\n",
      "Triple-quoted, i.e., starting and ending with three single or double quotation marks; this may span multiple lines and function like here documents in shells, Perl, and Ruby.\n",
      "Raw string varieties, denoted by prefixing the string literal with r. Escape sequences are not interpreted; hence raw strings are useful where literal backslashes are common, such as in regular expressions and Windows-style paths. (Compare \"@-quoting\" in C#.)\n",
      "Python has array index and array slicing expressions in lists, which are written as a[key], a[start:stop] or a[start:stop:step]. Indexes are zero-based, and negative indexes are relative to the end. Slices take elements from the start index up to, but not including, the stop index. The (optional) third slice parameter, called step or stride, allows elements to be skipped or reversed. Slice indexes may be omitted—for example, a[:] returns a copy of the entire list. Each element of a slice is a shallow copy.\n",
      "In Python, a distinction between expressions and statements is rigidly enforced, in contrast to languages such as Common Lisp, Scheme, or Ruby. This distinction leads to duplicating some functionality, for example:\n",
      "\n",
      "List comprehensions vs. for-loops\n",
      "Conditional expressions vs. if blocks\n",
      "The eval() vs. exec() built-in functions (in Python 2, exec is a statement); the former function is for expressions, while the latter is for statements\n",
      "A statement cannot be part of an expression; because of this restriction, expressions such as list and dict comprehensions (and lambda expressions) cannot contain statements. As a particular case, an assignment statement such as a = 1 cannot be part of the conditional expression of a conditional statement.\n",
      "\n",
      "\n",
      "=== Methods ===\n",
      "Methods of objects are functions attached to the object's class; the syntax for normal methods and functions, instance.method(argument), is syntactic sugar for Class.method(instance, argument). Python methods have an explicit self parameter to access instance data, in contrast to the implicit self (or this) parameter in some object-oriented programming languages (e.g., C++, Java, Objective-C, Ruby). Python also provides methods, often called dunder methods (because their names begin and end with double underscores); these methods allow user-defined classes to modify how they are handled by native operations including length, comparison, arithmetic, and type conversion.\n",
      "\n",
      "\n",
      "=== Typing ===\n",
      "\n",
      "Python uses duck typing, and it has typed objects but untyped variable names. Type constraints are not checked at definition time; rather, operations on an object may fail at usage time, indicating that the object is not of an appropriate type. Despite being dynamically typed, Python is strongly typed, forbidding operations that are poorly defined (e.g., adding a number and a string) rather than quietly attempting to interpret them.\n",
      "Python allows programmers to define their own types using classes, most often for object-oriented programming. New instances of classes are constructed by calling the class, for example, SpamClass() or EggsClass()); the classes are instances of the metaclass type (which is an instance of itself), thereby allowing metaprogramming and reflection.\n",
      "Before version 3.0, Python had two kinds of classes, both using the same syntax: old-style and new-style. Current Python versions support the semantics of only the new style.\n",
      "Python supports optional type annotations. These annotations are not enforced by the language, but may be used by external tools such as mypy to catch errors. Mypy also supports a Python compiler called mypyc, which leverages type annotations for optimization.\n",
      "\n",
      "\n",
      "=== Arithmetic operations ===\n",
      "Python includes conventional symbols for arithmetic operators (+, -, *, /), the floor-division operator //, and the modulo operator %. (With the module operator, a remainder can be negative, e.g., 4 % -3 == -2.) Python also offers the ** symbol for exponentiation, e.g. 5**3 == 125 and 9**0.5 == 3.0; it also offers the matrix‑multiplication operator @ . These operators work as in traditional mathematics; with the same precedence rules, the infix operators + and - can also be unary, to represent positive and negative numbers respectively.\n",
      "Division between integers produces floating-point results. The behavior of division has changed significantly over time:\n",
      "\n",
      "The current version of Python (i.e., since 3.0) changed the / operator to always represent floating-point division, e.g., 5/2 == 2.5.\n",
      "The floor division // operator was introduced. Thus 7//3 == 2, -7//3 == -3, 7.5//3 == 2.0, and -7.5//3 == -3.0. For outdated Python 2.7 adding the from __future__ import division statement causes a module in Python 2.7 to use Python 3.0 rules for division instead (see above).\n",
      "In Python terms, the / operator represents true division (or simply division), while the // operator represents floor division. Before version 3.0, the / operator represents classic division.\n",
      "Rounding towards negative infinity, though a different method than in most languages, adds consistency to Python. For instance, this rounding implies that the equation (a + b)//b == a//b + 1 is always true. The rounding also implies that the equation b*(a//b) + a%b == a is valid for both positive and negative values of a. As expected, the result of a%b lies in the half-open interval [0, b), where b is a positive integer; however, maintaining the validity of the equation requires that the result must lie in the interval (b, 0] when b is negative.\n",
      "Python provides a round function for rounding a float to the nearest integer. For tie-breaking, Python 3 uses the round to even method: round(1.5) and round(2.5) both produce 2. Python versions before 3 used the round-away-from-zero method: round(0.5) is 1.0, and round(-0.5) is −1.0.\n",
      "Python allows Boolean expressions that contain multiple equality relations to be consistent with general usage in mathematics. For example, the expression a < b < c tests whether a is less than b and b is less than c. C-derived languages interpret this expression differently: in C, the expression would first evaluate a < b, resulting in 0 or 1, and that result would then be compared with c.\n",
      "Python uses arbitrary-precision arithmetic for all integer operations. The Decimal type/class in the decimal module provides decimal floating-point numbers to a pre-defined arbitrary precision with several rounding modes. The Fraction class in the fractions module provides arbitrary precision for rational numbers.\n",
      "Due to Python's extensive mathematics library and the third-party library NumPy, the language is frequently used for scientific scripting in tasks such as numerical data processing and manipulation.\n",
      "\n",
      "\n",
      "=== Function syntax ===\n",
      "Functions are created in Python by using the def keyword. A function is defined similarly to how it is called, by first providing the function name and then the required parameters. Here is an example of a function that prints its inputs:\n",
      "\n",
      "To assign a default value to a function parameter in case no actual value is provided at run time, variable-definition syntax can be used inside the function header.\n",
      "\n",
      "\n",
      "== Code examples ==\n",
      "\"Hello, World!\" program:\n",
      "\n",
      "Program to calculate the factorial of a positive integer:\n",
      "\n",
      "\n",
      "== Libraries ==\n",
      "Python's large standard library is commonly cited as one of its greatest strengths. For Internet-facing applications, many standard formats and protocols such as MIME and HTTP are supported. The language includes modules for creating graphical user interfaces, connecting to relational databases, generating pseudorandom numbers, arithmetic with arbitrary-precision decimals, manipulating regular expressions, and unit testing.\n",
      "Some parts of the standard library are covered by specifications—for example, the Web Server Gateway Interface (WSGI) implementation wsgiref follows PEP 333—but most parts are specified by their code, internal documentation, and test suites. However, because most of the standard library is cross-platform Python code, only a few modules must be altered or rewritten for variant implementations.\n",
      "As of 13 March 2025, the Python Package Index (PyPI), the official repository for third-party Python software, contains over 614,339 packages. These have a wide range of functionality, including the following:\n",
      "\n",
      "\n",
      "== Development environments ==\n",
      "\n",
      "Most Python implementations (including CPython) include a read–eval–print loop (REPL); this permits the environment to function as a command line interpreter, with which users enter statements sequentially and receive results immediately.\n",
      "Python is also bundled with an integrated development environment (IDE) called IDLE, which is oriented toward beginners.\n",
      "Other shells, including IDLE and IPython, add additional capabilities such as improved auto-completion, session-state retention, and syntax highlighting.\n",
      "Standard desktop IDEs include PyCharm, IntelliJ Idea, Visual Studio Code; there are also web browser-based IDEs, such as the following environments:\n",
      "\n",
      "SageMath, for developing science- and math-related programs;\n",
      "Jupyter Notebooks, an open-source interactive computing platform;\n",
      "PythonAnywhere, a browser-based IDE and hosting environment; and\n",
      "Canopy IDE, a commercial IDE that emphasizes scientific computing.\n",
      "\n",
      "\n",
      "== Implementations ==\n",
      "\n",
      "\n",
      "=== Reference implementation ===\n",
      "CPython is the reference implementation of Python. This implementation is written in C, meeting the C11 standard (since version 3.11, older versions use the C89 standard with several select C99 features), but third-party extensions are not limited to older C versions—e.g., they can be implemented using C11 or C++. CPython compiles Python programs into an intermediate bytecode, which is then executed by a virtual machine. CPython is distributed with a large standard library written in a combination of C and native Python.\n",
      "CPython is available for many platforms, including Windows and most modern Unix-like systems, including macOS (and Apple M1 Macs, since Python 3.9.1, using an experimental installer). Starting with Python 3.9, the Python installer intentionally fails to install on Windows 7 and 8; Windows XP was supported until Python 3.5, with unofficial support for VMS. Platform portability was one of Python's earliest priorities. During development of Python 1 and 2, even OS/2 and Solaris were supported; since that time, support has been dropped for many platforms.\n",
      "All current Python versions (since 3.7) support only operating systems that feature multithreading, by now supporting not nearly as many operating systems (dropping many outdated) than in the past.\n",
      "\n",
      "\n",
      "=== Other implementations ===\n",
      "All alternative implementations have at least slightly different semantic. For example, an alternative may include unordered dictionaries, in contrast to other current Python versions. As another example in the larger Python ecosystem, PyPy does not support the full C Python API. Alternative implementations include the following:\n",
      "\n",
      "PyPy is a fast, compliant interpreter of Python 2.7 and  3.10. PyPy's just-in-time compiler often improves speed significantly relative to CPython, but PyPy does not support some libraries written in C. PyPy offers support for the RISC-V instruction-set architecture, for example.\n",
      "Codon is an implentation with an ahead-of-time (AOT) compiler, which compiles a statically-typed Python-like language whose \"syntax and semantics are nearly identical to Python's, there are some notable differences\" For example, Codon uses 64-bit machine integers for speed, not arbitrarily as with Python; Codon developers claim that speedups over CPython are usually on the order of ten to a hundred times. Codon compiles to machine code (via LLVM) and supports native multithreading.  Codon can also compile to Python extension modules that can be imported and used from Python.\n",
      "MicroPython and CircuitPython are Python 3 variants that are optimized for microcontrollers, including the Lego Mindstorms EV3.\n",
      "Pyston is a variant of the Python runtime that uses just-in-time compilation to speed up execution of Python programs.\n",
      "Cinder is a performance-oriented fork of CPython 3.8 that features a number of optimizations, including bytecode inline caching, eager evaluation of coroutines, a method-at-a-time JIT, and an experimental bytecode compiler.\n",
      "The Snek embedded computing language \"is Python-inspired, but it is not Python. It is possible to write Snek programs that run under a full Python system, but most Python programs will not run under Snek.\" Snek is compatible with 8-bit AVR microcontrollers such as ATmega 328P-based Arduino, as well as larger microcontrollers that are compatible with MicroPython. Snek is an imperative language that (unlike Python) omits object-oriented programming. Snek supports only one numeric data type, which features 32-bit single precision (resembling JavaScript numbers, though smaller).\n",
      "\n",
      "\n",
      "=== Unsupported implementations ===\n",
      "Stackless Python is a significant fork of CPython that implements microthreads. This implementation uses the call stack differently, thus allowing massively concurrent programs. PyPy also offers a stackless version.\n",
      "Just-in-time Python compilers have been developed, but are now unsupported:\n",
      "\n",
      "Google began a project named Unladen Swallow in 2009: this project aimed to speed up the Python interpreter five-fold by using LLVM, and improve multithreading capability for scaling to thousands of cores, while typical implementations are limited by the global interpreter lock.\n",
      "Psyco is a discontinued just-in-time specializing compiler, which integrates with CPython and transforms bytecode to machine code at runtime. The emitted code is specialized for certain data types and is faster than standard Python code. Psyco does not support Python 2.7 or later.\n",
      "PyS60 was a Python 2 interpreter for Series 60 mobile phones, which was released by Nokia in 2005. The interpreter implemented many modules from Python's standard library, as well as additional modules for integration with the Symbian operating system. The Nokia N900 also supports Python through the GTK widget library, allowing programs to be written and run on the target device.\n",
      "\n",
      "\n",
      "=== Cross-compilers to other languages ===\n",
      "There are several compilers/transpilers to high-level object languages; the source language is unrestricted Python, a subset of Python, or a language similar to Python:\n",
      "\n",
      "Brython, Transcrypt, and Pyjs compile Python to JavaScript. (The latest release of Pyjs was in 2012.)\n",
      "Cython compiles a superset of Python to C. The resulting code can be used with Python via direct C-level API calls into the Python interpreter.\n",
      "PyJL compiles/transpiles a subset of Python to \"human-readable, maintainable, and high-performance Julia source code\". Despite the developers' performance claims, this is not possible for arbitrary Python code; that is, compiling to a faster language or machine code is known to be impossible in the general case. The semantics of Python might potentially be changed, but in many cases speedup is possible with few or no changes in the Python code. The faster Julia source code can then be used from Python or compiled to machine code.\n",
      "Nuitka compiles Python into C. This compiler works with Python 3.4 to 3.12 (and 2.6 and 2.7) for Python's main supported platforms (and Windows 7 or even Windows XP) and for Android. The compiler developers claim full support for Python 3.10, partial support for Python 3.11 and 3.12,  and experimental support for Python 3.13. Nuitka supports macOS including Apple Silicon-based versions.  The compiler is free of cost, though it has commercial add-ons (e.g., for hiding source code).\n",
      "Numba is a JIT compiler that is used from Python; the compiler translates a subset of Python and NumPy code into fast machine code. This tool is enabled by adding a decorator to the relevant Python code.\n",
      "Pythran compiles a subset of Python 3 to C++ (C++11).\n",
      "RPython can be compiled to C, and it is used to build the PyPy interpreter for Python.\n",
      "The Python → 11l → C++ transpiler compiles a subset of Python 3 to C++ (C++17).\n",
      "There are also specialized compilers:\n",
      "\n",
      "MyHDL is a Python-based hardware description language (HDL) that converts MyHDL code to Verilog or VHDL code.\n",
      "Some older projects existed, as well as compilers not designed for use with Python 3.x and related syntax:\n",
      "\n",
      "Google's Grumpy transpiles Python 2 to Go. The latest release was in 2017.\n",
      "IronPython allows running Python 2.7 programs with the .NET Common Language Runtime. An alpha version (released in 2021), is available for \"Python 3.4, although features and behaviors from later versions may be included.\"\n",
      "Jython compiles Python 2.7 to Java bytecode, allowing the use of Java libraries from a Python program.\n",
      "Pyrex (last released in 2010) and Shed Skin (last released in 2013) compile to C and C++ respectively.\n",
      "\n",
      "\n",
      "=== Performance ===\n",
      "A perforance comparison among various Python implementations, using a non-numerical (combinatorial) workload, was presented at EuroSciPy '13. In addition, Python's performance relative to other programming languages is benchmarked by The Computer Language Benchmarks Game.\n",
      "There are several approaches to optimizing Python performance, given the inherent slowness of an interpreted language. These approaches include the following strategies or tools:\n",
      "\n",
      "Just-in-time compilation: Dynamically compiling Python code just before it is executed. This technique is used in libraries such as Numba and PyPy.\n",
      "Static compilation: Python code is compiled into machine code sometime before execution. An example of this approach is Cython, which compiles Python into C.\n",
      "Concurrency and parallelism: Multiple tasks can be run simultaneously. Python contains modules such as `multiprocessing` to support this form of parallelism. Moreover, this approach helps to overcome limitations of the Global Interpreter Lock (GIL) in CPU tasks.\n",
      "Efficient data structures: Performance can also be improved by using data types such as Set for membership tests, or deque from collections for queue operations.\n",
      "\n",
      "\n",
      "== Language Development ==\n",
      "Python's development is conducted largely through the Python Enhancement Proposal (PEP) process; this process is the primary mechanism for proposing major new features, collecting community input on issues, and documenting Python design decisions. Python coding style is covered in PEP 8. Outstanding PEPs are reviewed and commented on by the Python community and the steering council.\n",
      "Enhancement of the language corresponds with development of the CPython reference implementation. The mailing list python-dev is the primary forum for the language's development. Specific issues were originally discussed in the Roundup bug tracker hosted by the foundation. In 2022, all issues and discussions were migrated to GitHub. Development originally took place on a self-hosted source-code repository running Mercurial, until Python moved to GitHub in January 2017.\n",
      "CPython's public releases have three types, distinguished by which part of the version number is incremented:\n",
      "\n",
      "Backward-incompatible versions, where code is expected to break and must be manually ported. The first part of the version number is incremented. These releases happen infrequently—version 3.0 was released 8 years after 2.0. According to Guido van Rossum, a version 4.0 will probably never exist.\n",
      "Major or \"feature\" releases are largely compatible with the previous version but introduce new features. The second part of the version number is incremented. Starting with Python 3.9, these releases are expected to occur annually. Each major version is supported by bug fixes for several years after its release.\n",
      "Bug fix releases, which introduce no new features, occur approximately every three months; these releases are made when a sufficient number of bugs have been fixed upstream since the last release. Security vulnerabilities are also patched in these releases. The third and final part of the version number is incremented.\n",
      "Many alpha, beta, and release-candidates are also released as previews and for testing before final releases. Although there is a rough schedule for releases, they are often delayed if the code is not ready yet. Python's development team monitors the state of the code by running a large unit test suite during development.\n",
      "The major academic conference on Python is PyCon. There are also special Python mentoring programs, such as PyLadies.\n",
      "\n",
      "\n",
      "== API documentation generators ==\n",
      "Tools that can generate documentation for Python API include pydoc (available as part of the standard library); Sphinx; and Pdoc and its forks, Doxygen and Graphviz.\n",
      "\n",
      "\n",
      "== Naming ==\n",
      "Python's name is inspired by the British comedy group Monty Python, whom Python creator Guido van Rossum enjoyed while developing the language. Monty Python references appear frequently in Python code and culture; for example, the metasyntactic variables often used in Python literature are spam and eggs, rather than the traditional foo and bar. The official Python documentation also contains various references to Monty Python routines. Python users are sometimes referred to as \"Pythonistas\".\n",
      "The affix Py is often used when naming Python applications or libraries. Some examples include the following:\n",
      "\n",
      "Pygame, a binding of Simple DirectMedia Layer to Python (commonly used to create games);\n",
      "PyQt and PyGTK, which bind Qt and GTK to Python respectively;\n",
      "PyPy, a Python implementation originally written in Python;\n",
      "NumPy, a Python library for numerical processing.\n",
      "\n",
      "\n",
      "== Popularity ==\n",
      "Since 2003, Python has consistently ranked in the top ten of the most popular programming languages in the TIOBE Programming Community Index; as of December 2022, Python was the most popular language. Python was selected as Programming Language of the Year (for \"the highest rise in ratings in a year\") in 2007, 2010, 2018, and 2020—the only language to have done so four times as of 2020). In the TIOBE Index, monthly rankings are based on the volume of searches for programming languages on Google, Amazon, Wikipedia, Bing, and 20 other platforms. According to the accompanying graph, Python has shown a marked upward trend since the early 2000s, eventually passing more established languages such as C, C++, and Java. This trend can be attributed to Python's readable syntax, comprehensive standard library, and application in data science and machine learning fields.\n",
      "\n",
      "Large organizations that use Python include Wikipedia, Google, Yahoo!, CERN, NASA, Facebook, Amazon, Instagram, Spotify, and some smaller entities such as Industrial Light & Magic and ITA. The social news networking site Reddit was developed mostly in Python. Organizations that partly use Python include Discord and Baidu.\n",
      "\n",
      "\n",
      "== Types of Use ==\n",
      "\n",
      "Python has many uses, including the following:\n",
      "\n",
      "Scripting for web applications\n",
      "Scientific computing\n",
      "Artificial-intelligence and machine-learning projects\n",
      "Graphical user interfaces and desktop environments\n",
      "Embedded scripting in software and hardware products\n",
      "Operating systems\n",
      "Information security\n",
      "Python can serve as a scripting language for web applications, e.g., via the mod_wsgi module for the Apache web server. With Web Server Gateway Interface, a standard API has evolved to facilitate these applications. Web frameworks such as Django, Pylons, Pyramid, TurboGears, web2py, Tornado, Flask, Bottle, and Zope support developers in the design and maintenance of complex applications. Pyjs and IronPython can be used to develop the client-side of Ajax-based applications. SQLAlchemy can be used as a data mapper to a relational database. Twisted is a framework to program communication between computers; this framework is used by Dropbox, for example.\n",
      "Libraries such as NumPy, SciPy and Matplotlib allow the effective use of Python in scientific computing, with specialized libraries such as Biopython and Astropy providing domain-specific functionality. SageMath is a computer algebra system with a notebook interface that is programmable in Python; the SageMath library covers many aspects of mathematics, including algebra, combinatorics, numerical mathematics, number theory, and calculus. OpenCV has Python bindings with a rich set of features for computer vision and image processing.\n",
      "Python is commonly used in artificial-intelligence and machine-learning projects, with support from libraries such as TensorFlow, Keras, Pytorch, scikit-learn and ProbLog (a logic language). As a scripting language with a modular architecture, simple syntax, and rich text processing tools, Python is often used for natural language processing.\n",
      "The combination of Python and Prolog has proven useful for AI applications, with Prolog providing knowledge representation and reasoning capabilities. The Janus system, in particular, exploits similarities between these two languages, in part because of their dynamic typing and their simple, recursive data structures. This combination is typically applied natural language processing, visual query answering, geospatial reasoning, and handling semantic web data.\n",
      "The Natlog system, implemented in Python, uses Definite Clause Grammars (DCGs) to create prompts for two types of generators: text-to-text generators such as GPT3, and text-to-image generators such as DALL-E or Stable Diffusion.\n",
      "Python can be used for graphical user interfaces (GUIs), by using libraries such as Tkinter. Similarly, for the One Laptop per Child XO computer, most of the Sugar desktop environment is written in Python (as of 2008).\n",
      "Python is embedded in many software products (and some hardware products) as a scripting language. These products include the following: \n",
      "\n",
      "finite element method software such as Abaqus,\n",
      "3D parametric modelers such as FreeCAD,\n",
      "3D animation packages such as 3ds Max, Blender, Cinema 4D, Lightwave, Houdini, Maya, modo, MotionBuilder, Softimage,\n",
      "the visual effects compositor Nuke,\n",
      "2D imaging programs such as GIMP, Inkscape, Scribus and Paint Shop Pro, and\n",
      "musical notation programs such as scorewriter and capella.\n",
      "Similarly, GNU Debugger uses Python as a pretty printer to show complex structures such as C++ containers. Esri promotes Python as the best choice for writing scripts in ArcGIS. Python has also been used in several video games, and it has been adopted as first of the three programming languages available in Google App Engine (the other two being Java and Go). LibreOffice includes Python, and its developers plan to replace Java with Python; LibreOffice's Python Scripting Provider is a core feature since version 4.0 (from 7 February 2013). \n",
      "Among hardware products, the Raspberry Pi single-board computer project has adopted Python as its main user-programming language.\n",
      "Many operating systems include Python as a standard component. Python ships with most Linux distributions, AmigaOS 4 (using Python 2.7), FreeBSD (as a package), NetBSD, and OpenBSD (as a package); it can be used from the command line (terminal). Many Linux distributions use installers written in Python: Ubuntu uses the Ubiquity installer, while Red Hat Linux and Fedora Linux use the Anaconda installer. Gentoo Linux uses Python in its package management system, Portage.\n",
      "Python is used extensively in the information security industry, including in exploit development. \n",
      "\n",
      "\n",
      "== Languages influenced by Python ==\n",
      "Python's design and philosophy have influenced many other programming languages:\n",
      "\n",
      "Boo uses indentation, a similar syntax, and a similar object model.\n",
      "Cobra uses indentation and a similar syntax; its Acknowledgements document lists Python first among influencing languages.\n",
      "CoffeeScript, a programming language that cross-compiles to JavaScript, has a Python-inspired syntax.\n",
      "ECMAScript–JavaScript borrowed iterators and generators from Python.\n",
      "GDScript, a Python-like scripting language that is built in to the Godot game engine.\n",
      "Go is designed for \"speed of working in a dynamic language like Python\"; Go shares Python's syntax for slicing arrays.\n",
      "Groovy was motivated by a desire to incorporate the Python design philosophy into Java.\n",
      "Julia was designed to be \"as usable for general programming as Python\".\n",
      "Mojo is a non-strict superset of Python (e.g., omitting classes, and adding struct).\n",
      "Nim uses indentation and a similar syntax.\n",
      "Ruby's creator, Yukihiro Matsumoto, said that \"I wanted a scripting language that was more powerful than Perl, and more object-oriented than Python. That's why I decided to design my own language.\"\n",
      "Swift, a programming language developed by Apple, has some Python-inspired syntax.\n",
      "Kotlin blends Python and Java features, which minimizes boilerplate code and enhances developer efficiency.\n",
      "Python's development practices have also been emulated by other languages. For example, Python requires a document that describes the rationale and context for any language change; this document is known as a Python Enhancement Proposal or PEP. This practice is also used by the developers of Tcl, Erlang, and Swift.\n",
      "\n",
      "\n",
      "== See also ==\n",
      "\n",
      "Python syntax and semantics\n",
      "pip (package manager)\n",
      "List of programming languages\n",
      "History of programming languages\n",
      "Comparison of programming languages\n",
      "\n",
      "\n",
      "== Notes ==\n",
      "\n",
      "\n",
      "== References ==\n",
      "\n",
      "\n",
      "=== Sources ===\n",
      "\"Python for Artificial Intelligence\". Python Wiki. 19 July 2012. Archived from the original on 1 November 2012. Retrieved 3 December 2012.\n",
      "Paine, Jocelyn, ed. (August 2005). \"AI in Python\". AI Expert Newsletter. Amzi!. Archived from the original on 26 March 2012. Retrieved 11 February 2012.\n",
      "\"PyAIML 0.8.5 : Python Package Index\". Pypi.python.org. Retrieved 17 July 2013.\n",
      "Russell, Stuart J. & Norvig, Peter (2009). Artificial Intelligence: A Modern Approach (3rd ed.). Upper Saddle River, NJ: Prentice Hall. ISBN 978-0-13-604259-4.\n",
      "\n",
      "\n",
      "== Further reading ==\n",
      "Downey, Allen (July 2024). Think Python: How to Think Like a Computer Scientist (3rd ed.). O'Reilly Media. ISBN 978-1098155438.\n",
      "Lutz, Mark (2013). Learning Python (5th ed.). O'Reilly Media. ISBN 978-0-596-15806-4.\n",
      "Summerfield, Mark (2009). Programming in Python 3 (2nd ed.). Addison-Wesley Professional. ISBN 978-0-321-68056-3.\n",
      "Ramalho, Luciano (May 2022). Fluent Python. O'Reilly Media. ISBN 978-1-4920-5632-4.\n",
      "\n",
      "\n",
      "== External links ==\n",
      "\n",
      "Official website \n",
      "The Python Tutorial\n"
     ]
    }
   ],
   "source": [
    "print(p.content)"
   ]
  },
  {
   "cell_type": "code",
   "execution_count": 62,
   "id": "533f2ec5-7f19-4a51-8864-ac02a0c5c1bc",
   "metadata": {},
   "outputs": [
    {
     "name": "stdout",
     "output_type": "stream",
     "text": [
      "['https://upload.wikimedia.org/wikipedia/commons/a/a9/Af-Helloworld_%28C_Sharp%29.svg', 'https://upload.wikimedia.org/wikipedia/commons/3/31/Free_and_open-source_software_logo_%282009%29.svg', 'https://upload.wikimedia.org/wikipedia/commons/2/21/Guido_van_Rossum_in_PyConUS24.jpg', 'https://upload.wikimedia.org/wikipedia/commons/2/20/Hello_World_in_Python.png', 'https://upload.wikimedia.org/wikipedia/commons/6/6f/Octicons-terminal.svg', 'https://upload.wikimedia.org/wikipedia/commons/c/c3/Python-logo-notext.svg', 'https://upload.wikimedia.org/wikipedia/commons/e/e0/Python_3.13_Standrd_Type_Hierarchy-en.svg', 'https://upload.wikimedia.org/wikipedia/commons/b/bd/Python_Powered.png', 'https://upload.wikimedia.org/wikipedia/commons/f/f8/Tiobeindex.png', 'https://upload.wikimedia.org/wikipedia/commons/d/df/Wikibooks-logo-en-noslogan.svg', 'https://upload.wikimedia.org/wikipedia/commons/f/fa/Wikibooks-logo.svg', 'https://upload.wikimedia.org/wikipedia/commons/f/ff/Wikidata-logo.svg', 'https://upload.wikimedia.org/wikipedia/commons/f/fa/Wikiquote-logo.svg', 'https://upload.wikimedia.org/wikipedia/commons/0/0b/Wikiversity_logo_2017.svg', 'https://upload.wikimedia.org/wikipedia/en/4/4a/Commons-logo.svg', 'https://upload.wikimedia.org/wikipedia/en/8/8a/OOjs_UI_icon_edit-ltr-progressive.svg', 'https://upload.wikimedia.org/wikipedia/en/9/96/Symbol_category_class.svg', 'https://upload.wikimedia.org/wikipedia/en/d/db/Symbol_list_class.svg', 'https://upload.wikimedia.org/wikipedia/en/e/e2/Symbol_portal_class.svg']\n"
     ]
    }
   ],
   "source": [
    "print(p.images)"
   ]
  },
  {
   "cell_type": "code",
   "execution_count": 64,
   "id": "c5d9c041-a5bc-43b0-9fc3-6af6e7ee0c04",
   "metadata": {},
   "outputs": [
    {
     "name": "stdout",
     "output_type": "stream",
     "text": [
      "['\"Hello, World!\" program', '3ds Max', '?:', 'ABC (programming language)', 'ADMB', 'ALGOL', 'ALGOL 68', 'API', 'APL (programming language)', 'ATmega', 'AVR microcontrollers', 'Abaqus', 'Academic Free License', 'Academic conference', 'Ada (programming language)', 'Advanced Simulation Library', 'Affix', 'Ahead-of-time compilation', 'Alex Martelli', 'Algebra', 'Alternative terms for free software', 'Amazon (company)', 'AmigaOS 4', 'Amoeba (operating system)', 'Anaconda (installer)', 'Analyse-it', 'Android (operating system)', 'Anonymous function', 'Apache Groovy', 'Apache License', 'Apache webserver', 'Apple M1', 'Apple Public Source License', 'ArXiv (identifier)', 'Arbitrary-precision arithmetic', 'ArcGIS', 'Arithmetic operations', 'Array index', 'Array slicing', 'Artificial intelligence', 'Artistic License', 'Aspect-oriented programming', 'Assembly language', 'Assertion (programming)', 'Assignment (computer science)', 'Associative array', 'Astropy', 'Asynchronous Server Gateway Interface', 'Autodesk Softimage', 'Automatic differentiation', 'Automation', 'BASIC', 'BMDP', 'BSD', 'BSD licenses', 'BV4.1 (software)', 'Backporting', 'Backward-compatible', 'Baidu', 'Bazel (software)', 'Beerware', 'Benevolent dictator for life', 'Beta release', 'Bibcode (identifier)', 'Biopython', 'Blender (software)', 'Block (programming)', 'Boo (programming language)', 'Boolean value', 'Break statement', 'Bug tracker', 'Byte', 'Bytecode', 'C++', 'C++11', 'C++17', 'C11 (C standard revision)', 'C89 (C version)', 'C99', 'CCP Games', 'CERN', 'CLPython', 'CLU (programming language)', 'COBOL', 'CPython', 'CSPro', 'C (programming language)', 'C Sharp (programming language)', 'Cache poisoning', 'Calculus', 'Call stack', 'Caml', 'Capella (notation program)', 'Centrum Wiskunde & Informatica', 'Chapel (programming language)', 'Character string', 'CherryPy', 'Chris Lattner', 'Cinema 4D', 'CircuitPython', 'CiteSeerX (identifier)', 'Class (computer science)', 'Cobra (programming language)', 'Code readability', 'CoffeeScript', 'Combinatorics', 'Command line interpreter', 'Commercial software', 'Common Development and Distribution License', 'Common Language Runtime', 'Common Lisp', 'Community of practice', 'Comparison of free and open-source software licenses', 'Comparison of free software for audio', 'Comparison of integrated development environments', 'Comparison of numerical-analysis software', 'Comparison of open-source and closed-source software', 'Comparison of open-source configuration management software', 'Comparison of open-source operating systems', 'Comparison of open-source wireless drivers', 'Comparison of programming languages', 'Comparison of server-side web frameworks', 'Comparison of shopping cart software', 'Comparison of source-code-hosting facilities', 'Comparison of statistical packages', 'Compiler', 'Complex number', 'Computational learning theory', 'Computer algebra system', 'Computer file', 'Computer networking', 'Computer vision', 'Concatenated', 'Conditional (programming)', 'Contributor License Agreement', 'Copyleft', 'Coroutine', 'Creative Commons license', 'Cross-platform software', 'CubicWeb', 'CumFreq', 'Curly bracket programming language', 'Cycle detection', 'Cython', 'DADiSP', 'DAP (software)', 'D (programming language)', 'Data Desk', 'Data analytics', 'Data mapper pattern', 'Data type', 'Database', 'Dataplot', 'Debian Free Software Guidelines', 'Decimal floating point', 'Definite clause grammar', 'Definition of Free Cultural Works', 'Design by contract', 'Desktop environment', 'Destructor (computer programming)', 'Device driver', 'Differentiable function', 'Differentiable programming', 'Digital rights management', 'Discord', 'Dispose pattern', 'Django (web framework)', 'Documentation', 'Doi (identifier)', 'Double-precision', 'Doxygen', 'Dropbox', 'Duck typing', 'Dylan (programming language)', 'Dynamic language', 'Dynamic typing', 'Dynamically typed', 'ECMAScript', 'EViews', 'Eclipse Public License', 'Elixir (programming language)', 'Ellipsis (programming operator)', 'End-of-life product', 'Epi Info', 'Eric (software)', 'Erlang (programming language)', 'Escape character', 'Esri', 'Euler Mathematical Toolbox', 'Exception handling', 'Exception handling (programming)', 'Exception handling syntax', 'Exponentiation', 'Expression (computer science)', 'Extensible', 'FEATool Multiphysics', 'F Sharp (programming language)', 'Facebook', 'Factorial', 'FastAPI', 'Fedora Linux', 'Fellow', 'Filename extension', 'Finite element method', 'Firaxis Games', 'First-class continuations', 'Flask (web framework)', 'Floating-point number', 'Floor division', 'Flux (machine-learning framework)', 'Foobar', 'Foreach', 'Fork (software development)', 'Forth (programming language)', 'Fortran', 'Fortress (programming language)', 'Free-software license', 'FreeBSD', 'FreeCAD', 'FreeFem++', 'FreeMat', 'Free Software Foundation', 'Free Software Movement of India', 'Free and open-source graphics device driver', 'Free and open-source software', 'Free license', 'Free software', 'Free software movement', 'Freeware', 'Function (computer programming)', 'Function (computing)', 'Functional programming', 'GAUSS (software)', 'GDScript', 'GIMP', 'GNU Affero General Public License', 'GNU Debugger', 'GNU General Public License', 'GNU Lesser General Public License', 'GNU Manifesto', 'GNU Octave', 'GTK', 'Garbage collection (computer science)', 'General-purpose programming language', 'Generational list of programming languages', 'Generator (computer programming)', 'Generator (computer science)', 'Genius (mathematics software)', 'Genstat', 'Gentoo Linux', 'GitHub', 'Global interpreter lock', 'Glue language', 'Gmsh', 'Go (programming language)', 'Godot (game engine)', 'Google', 'Google App Engine', 'GraphPad InStat', 'GraphPad Prism', 'Graphcore', 'Graphical user interface', 'Graphviz', 'Gratis versus libre', 'Gretl', 'Grok (web framework)', 'Groovy (programming language)', 'Guido van Rossum', 'HTTP', 'Half-open interval', 'Hardware description language', 'Haskell', 'Here document', 'High-level programming language', 'History of Python', 'History of free and open-source software', 'History of programming languages', 'Houdini (software)', 'IDLE', 'IEEE 754', 'IOS', 'IPython', 'ISBN (identifier)', 'ISC license', 'ISSN (identifier)', 'ITA Software', 'Icon (programming language)', 'If-then-else', 'Image processing', 'Immutable', 'Immutable object', 'Imperative programming', 'Include directive', 'Inductive bias', 'Industrial Light & Magic', 'Infix notation', 'InfoWorld', 'Information geometry', 'Information security', 'Inkscape', 'Instagram', 'Instance data', 'Integer (computer science)', 'Integrated development environment', 'Interpreted language', 'IronPython', 'Iterator', 'JASP', 'JAX (software)', 'JMP (statistical software)', 'JMulTi', 'Jamovi', 'JavaScript', 'Java (programming language)', 'Java (software platform)', 'Jeff Dean (computer scientist)', 'Julia (programming language)', 'Just-in-time compilation', 'Just-in-time compiler', 'Just another Gibbs sampler', 'Jython', 'Keras', 'Kotlin (programming language)', 'LIMDEP', 'LISREL', 'LLVM', 'LabVIEW', 'Lambda (programming)', 'Language binding', 'Late binding', 'Lazy evaluation', 'Lego Mindstorms EV3', 'LibreOffice', 'License proliferation', 'LightWave 3D', 'Linux', 'Linux distribution', 'Lisp (programming language)', 'List (computer science)', 'List comprehension', 'List comprehensions', 'List of Python software', 'List of commercial open-source applications and services', 'List of formerly free and open-source software', 'List of formerly proprietary software', 'List of free-software events', 'List of free and open-source Android applications', 'List of free and open-source iOS applications', 'List of free and open-source software organizations', 'List of free and open-source software packages', 'List of free and open-source web applications', 'List of free software project directories', 'List of free television software', 'List of integrated development environments for Python', 'List of numerical-analysis software', 'List of office suites', 'List of open-source bioinformatics software', 'List of open-source codecs', 'List of open-source health software', 'List of open-source routing platforms', 'List of open-source software for mathematics', 'List of open-source video games', 'List of programming languages', 'List of programming languages by type', 'List of statistical software', 'Lock (computer science)', 'Logic programming', 'Long-term support', 'Lua', 'MATLAB', 'MFEM', 'MIME', 'MIT License', 'ML (programming language)', 'MLwiN', 'MWorks', 'MacOS', 'Machine learning', 'Maple (software)', 'Mathcad', 'Mathematics', 'Matplotlib', 'Matrix multiplication', 'Maya (software)', 'MedCalc', 'Memory management', 'Memristor', 'Mercurial', 'Metaclass', 'Metaobject', 'Metaprogramming', 'Metasyntactic variable', 'Method (computer programming)', 'Method (computing)', 'MicroPython', 'Microcontroller', 'Microfit', 'Microsoft Excel', 'Microsoft Open Specification Promise', 'Microsoft Windows', 'Microthread', 'MindSpore', 'Minitab', 'Mobile app', 'Mod wsgi', 'Modo (software)', 'Modula-3', 'Modular programming', 'Modulo operation', 'Mojo (programming language)', 'Monty Python', \"Monty Python's Flying Circus\", 'MotionBuilder', 'Mozilla Public License', 'Mozilla software rebranded by Debian', 'Multi-paradigm', 'Multi-paradigm programming language', 'Multimedia', 'Multithreading (computer architecture)', 'Musical notation', 'MyHDL', 'N900', 'NASA', 'NCSS (statistical software)', 'NOP (code)', 'Name resolution (programming languages)', 'Natural language processing', 'Neologism', 'NetBSD', 'Netherlands', 'Neuromorphic computing', 'Nevow', 'Nim (programming language)', 'Ninja-IDE', 'Nokia', 'Non-English-based programming languages', 'Norman Jouppi', 'Notebook interface', 'Nuitka', 'Nuke (software)', 'Null pointer', 'NumPy', 'Numba', 'Number theory', 'Numerical mathematics', \"O'Reilly Media\", 'OCaml', 'OS/2', 'Object-oriented', 'Object-oriented programming', 'Object (computer science)', 'Object Pascal', 'Objective-C', 'Off-side rule', 'One Laptop per Child', 'Open-core model', 'Open-source-software movement', 'Open-source hardware', 'Open-source license', 'Open-source software', 'Open-source software advocacy', 'Open-source software development', 'Open-source software security', 'OpenBSD', 'OpenBUGS', 'OpenCV', 'OpenFOAM', 'OpenVMS', 'Operating system', 'Operator overloading', 'Optional typing', 'Orange (software)', 'Order of operations', 'Outline of free software', 'OxMetrics', 'PHP', 'PSPP', 'Package management system', 'Paint Shop Pro', 'Parameter (computer programming)', 'Pascal (programming language)', 'Pattern matching', 'Pattern recognition', 'Pdoc', 'Perl', 'Permissive software license', 'Peter Norvig', 'Pip (package manager)', 'Pointer (computer programming)', 'Portage (software)', 'Ported', 'Premature optimization', 'Pretty Good Privacy', 'Pretty printer', 'Printf', 'ProbLog', 'Procedural programming', 'Programming idiom', 'Programming language', 'Programming language implementation', 'Programming paradigm', 'Project Jupyter', 'Prolog', 'Proprietary device driver', 'Proprietary firmware', 'Proprietary software', 'Pseudorandom number generator', 'Psyco', 'Public-domain software', 'Public domain', 'PyCharm', 'PyCon', 'PyDev', 'PyGTK', 'PyLadies', 'PyMC3', 'PyPy', 'PyQt', 'PyS60', 'PyTorch', 'Pydoc', 'Pygame', 'Pyjs', 'Pylons (web framework)', 'Pylons project', 'Pyramid (web framework)', 'Pyrex (programming language)', 'PythonAnywhere', 'Python Conference', 'Python License', 'Python Package Index', 'Python Software Foundation', 'Python Software Foundation License', 'Python for S60', 'Python syntax and semantics', 'Pytorch', 'Qt (software)', 'Queueing theory', 'Quixote (web framework)', 'RATS (software)', 'RExcel', 'RISC-V', 'RPython', 'RStudio', 'R (programming language)', 'Raku (programming language)', 'Raspberry Pi', 'Raspberry Pi OS', 'Rational number', 'Raw string', 'Read–eval–print loop', 'Red Hat Linux', 'Reddit', 'Reference counting', 'Reference implementation', 'Reflective programming', 'Regular expression', 'Relational database', 'Remote code execution', 'Resource acquisition is initialization', 'Revolution Analytics', 'Revolution OS', 'Ricci calculus', 'Ring-lang', 'Ring (programming language)', 'Rounding', 'Roundup (issue tracker)', 'Ruby (programming language)', 'Run-time algorithm specialization', 'Rust (programming language)', 'S-PLUS', 'S2CID (identifier)', 'SAS (software)', 'SAS Viya', 'SAS language', 'SCO–Linux disputes', 'SETL', 'SOFA Statistics', 'SPSS', 'SPSS Modeler', 'SQL', 'SQLAlchemy', 'SUDAAN', 'SYSTAT (statistics package)', 'SageMath', 'Salome (software)', 'Scheme (programming language)', 'SciPy', 'ScicosLab', 'Scientific computing', 'Scikit-learn', 'Scilab', 'Scorewriter', 'Scratch (programming language)', 'Scribus', 'Scripting language', 'SegReg', 'Self-hosting (web services)', 'Series 60', 'Set (computer science)', 'Shallow copy', 'Shared Source Initiative', 'Shazam (econometrics software)', 'Shed Skin', 'Shell script', 'SigmaStat', 'Significant indentation', 'SimFiT', 'Simple DirectMedia Layer', 'Simula', 'Single-board computer', 'Single-precision', 'Sleepycat License', 'Smalltalk', 'SmartPLS', 'Software design', 'Software developer', 'Software development', 'Software license', 'Software patents and free software', 'Software release life cycle', 'Solaris (operating system)', 'Source-available software', 'Spam (Monty Python)', 'Speakeasy (computational environment)', 'Sphinx (documentation generator)', 'SpiNNaker', 'Spotify', 'Spyder (software)', 'Stack Overflow', 'Stackless Python', 'Stan (software)', 'Standard ML', 'Standard library', 'StatView', 'StatXact', 'Stata', 'Statement (computer science)', 'Statically-typed', 'Statistica', 'Statistical manifold', 'StatsDirect', 'String interpolation', 'String literal', 'Strong and weak typing', 'Strongly typed', 'Struct', 'Structured programming', 'Stuart J. Russell', 'Sugar (software)', 'Swift (programming language)', 'Switch statement', 'Symbian', 'Syntactic sugar', 'Syntax highlighting', 'System administration', 'TIOBE Programming Community Index', 'TSP (econometrics software)', 'Tail call', 'Tcl', 'TensorFlow', 'Tensor Processing Unit', 'Test framework', 'Test suite', 'Text processing', 'The C Programming Language', 'The Cathedral and the Bazaar', 'The Computer Language Benchmarks Game', 'The Document Foundation', 'The Free Software Definition', 'The Open Source Definition', 'The Unscrambler', 'Theano (software)', 'There is more than one way to do it', 'This (computer programming)', 'Timeline of free and open-source software', 'Timeline of programming languages', 'Tivoization', 'Tkinter', 'Tornado (web server)', 'Transpile', 'Transpiler', 'Trusted Computing', 'Tuple', 'TurboGears', 'Twisted (software)', 'Type system', 'UTF-8', 'Ubiquity (software)', 'Ubuntu', 'Unary operation', 'Unicode', 'Unit test', 'Unit testing', 'Unix-like', 'Unix shell', 'Unladen Swallow', 'Unlicense', 'Upstream (software development)', 'VHDL', 'V (programming language)', 'Verilog', 'Virtual machine', 'VisSim', 'Vision processing unit', 'Visual Basic', 'Visual Basic (.NET)', 'Visual Basic (classic)', 'WTFPL', 'Web2py', 'WebAssembly', 'Web Server Gateway Interface', 'Web application', 'Web browser', 'Web framework', 'Web scraping', 'Weka (software)', 'While loop', 'Whitespace character', 'Wikipedia', 'WinBUGS', 'Windows', 'Windows 7', 'Windows XP', 'Wolfram Mathematica', 'World Programming System', 'X-12-ARIMA', 'X10 (programming language)', 'XLfit', 'XLispStat', 'XploRe', 'Yahoo!', 'Yukihiro Matsumoto', 'Zen of Python', 'Zero-based numbering', 'Zlib License', 'Zope']\n"
     ]
    }
   ],
   "source": [
    "print(p.links)"
   ]
  },
  {
   "cell_type": "markdown",
   "id": "a6849653-b7bf-4722-ad3a-fbe3bb9288af",
   "metadata": {},
   "source": [
    "### STEPS\n",
    "1. first we have to install wikipedia package.\n",
    "2. use wiki.search() to get all suggestions related.\n",
    "3. get the summary of topic using wiki.summary().\n",
    "4. we can set different languages such as 'en' for english,'hi' for hindi, 'de' for german, 'fr' for french respectively.\n",
    "5. after that print the title,content in detail ,images,links using print()."
   ]
  },
  {
   "cell_type": "code",
   "execution_count": null,
   "id": "4dc611b3-e50b-4744-b24d-6959c7b2eb4f",
   "metadata": {},
   "outputs": [],
   "source": []
  }
 ],
 "metadata": {
  "kernelspec": {
   "display_name": "Python [conda env:base] *",
   "language": "python",
   "name": "conda-base-py"
  },
  "language_info": {
   "codemirror_mode": {
    "name": "ipython",
    "version": 3
   },
   "file_extension": ".py",
   "mimetype": "text/x-python",
   "name": "python",
   "nbconvert_exporter": "python",
   "pygments_lexer": "ipython3",
   "version": "3.12.7"
  }
 },
 "nbformat": 4,
 "nbformat_minor": 5
}
