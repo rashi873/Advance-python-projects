{
 "cells": [
  {
   "cell_type": "markdown",
   "id": "25654bde-e991-46b9-adb5-a067a02815d3",
   "metadata": {},
   "source": [
    "## SPELLING CORRECTION USING PYTHON "
   ]
  },
  {
   "cell_type": "code",
   "execution_count": 77,
   "id": "1b64d73a-d2be-4589-96b8-c4c518af748d",
   "metadata": {},
   "outputs": [
    {
     "name": "stdout",
     "output_type": "stream",
     "text": [
      "Wrong words : ['Data Scence', 'Mahine learnin']\n",
      "Correct words are :\n",
      "Data Science Machine learning "
     ]
    }
   ],
   "source": [
    "import textblob\n",
    "from textblob import TextBlob\n",
    "words = [\"Data Scence\",\"Mahine learnin\"]\n",
    "corrected_words = []\n",
    "for i in words:\n",
    "    corrected_words.append(TextBlob(i))\n",
    "print(\"Wrong words :\",words)\n",
    "print(\"Correct words are :\")\n",
    "for i in corrected_words:\n",
    "    print(i.correct(),end = \" \")"
   ]
  },
  {
   "cell_type": "markdown",
   "id": "cd6e9b97-d3e2-4c84-9e8b-58a11a3254b3",
   "metadata": {},
   "source": [
    "## alternate method using pyspellchecker library"
   ]
  },
  {
   "cell_type": "code",
   "execution_count": 60,
   "id": "d7212d03-292d-474c-a155-ef45f875a61e",
   "metadata": {},
   "outputs": [
    {
     "name": "stdout",
     "output_type": "stream",
     "text": [
      "Wrong words : ['Sceneery', 'Laernin', 'beautful', 'Pratyy']\n",
      "Corrected words are :\n",
      "scenery learning beautiful pretty "
     ]
    }
   ],
   "source": [
    "from spellchecker import SpellChecker\n",
    "spell = SpellChecker()\n",
    "words = [\"Sceneery\",\"Laernin\",\"beautful\",\"Pratyy\"]\n",
    "corrected_words =[]\n",
    "for i in words:\n",
    "    corrected_words.append(spell.correction(i))\n",
    "print(\"Wrong words :\", words)\n",
    "print(\"Corrected words are :\")\n",
    "for i in corrected_words:\n",
    "    print(i, end = \" \")"
   ]
  },
  {
   "cell_type": "markdown",
   "id": "9be25697-3a35-49af-8432-b7b0fd4d3957",
   "metadata": {},
   "source": [
    "## alternate method using input()"
   ]
  },
  {
   "cell_type": "code",
   "execution_count": 73,
   "id": "fc1b346a-ea18-4d71-ab0b-57b13893119b",
   "metadata": {},
   "outputs": [
    {
     "name": "stdin",
     "output_type": "stream",
     "text": [
      "Enter the wrong words: laernin\n"
     ]
    },
    {
     "name": "stdout",
     "output_type": "stream",
     "text": [
      "Wrong words : ['laernin']\n",
      "Corrected words are :\n",
      "learning "
     ]
    }
   ],
   "source": [
    "from spellchecker import SpellChecker\n",
    "spell = SpellChecker()\n",
    "words = input(\"Enter the wrong words:\").split()\n",
    "corrected_words = []\n",
    "for i in words:\n",
    "    corrected_words.append(spell.correction(i))\n",
    "print(\"Wrong words :\", words)\n",
    "print(\"Corrected words are :\")\n",
    "for i in corrected_words:\n",
    "    print(i, end = \" \")"
   ]
  },
  {
   "cell_type": "markdown",
   "id": "e6ca8be9-369d-47b3-8093-60a0cc920420",
   "metadata": {},
   "source": [
    "### STEPS\n",
    "1. import the SpellChecker class spellchecker module\n",
    "2. take user input or give words for correction\n",
    "3. in case of input() , use split() function to convert inputs into words\n",
    "4. use .correction() to find most correct spelling of the given word\n",
    "5. append the corrected word to the list\n",
    "6. print original wrong and then corrected words simultaneously"
   ]
  },
  {
   "cell_type": "code",
   "execution_count": null,
   "id": "0dc7cf0e-2300-4303-8a1e-8c7a572f30e1",
   "metadata": {},
   "outputs": [],
   "source": []
  }
 ],
 "metadata": {
  "kernelspec": {
   "display_name": "Python [conda env:base] *",
   "language": "python",
   "name": "conda-base-py"
  },
  "language_info": {
   "codemirror_mode": {
    "name": "ipython",
    "version": 3
   },
   "file_extension": ".py",
   "mimetype": "text/x-python",
   "name": "python",
   "nbconvert_exporter": "python",
   "pygments_lexer": "ipython3",
   "version": "3.12.7"
  }
 },
 "nbformat": 4,
 "nbformat_minor": 5
}
