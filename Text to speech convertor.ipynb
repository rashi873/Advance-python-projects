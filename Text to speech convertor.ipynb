{
 "cells": [
  {
   "cell_type": "markdown",
   "id": "f0e2772c-0a3c-43ca-b6ec-6f87879ca5a1",
   "metadata": {},
   "source": [
    "## TEXT TO SPEECH CONVERSION USING PYTHON"
   ]
  },
  {
   "cell_type": "code",
   "execution_count": 5,
   "id": "4e28c27f-347f-490a-9ef7-89311d6a2915",
   "metadata": {},
   "outputs": [
    {
     "name": "stdout",
     "output_type": "stream",
     "text": [
      "All libraries imported successfully!\n"
     ]
    }
   ],
   "source": [
    "from newspaper import Article\n",
    "import nltk\n",
    "from gtts import gTTS\n",
    "import os\n",
    "print(\"All libraries imported successfully!\")\n"
   ]
  },
  {
   "cell_type": "code",
   "execution_count": 6,
   "id": "31abafe7-a1e2-47b4-a394-133e9ef75c30",
   "metadata": {},
   "outputs": [],
   "source": [
    "article = Article(\"https://jamesclear.com/dont-start-from-scratch\")\n",
    "article.download()\n",
    "article.parse()"
   ]
  },
  {
   "cell_type": "code",
   "execution_count": 7,
   "id": "7fe85980-cf1c-4ffe-bae5-5d08de24e941",
   "metadata": {},
   "outputs": [
    {
     "name": "stderr",
     "output_type": "stream",
     "text": [
      "[nltk_data] Downloading package punkt to C:\\Users\\Rashi\n",
      "[nltk_data]     Bali\\AppData\\Roaming\\nltk_data...\n",
      "[nltk_data]   Package punkt is already up-to-date!\n",
      "[nltk_data] Downloading package punkt_tab to C:\\Users\\Rashi\n",
      "[nltk_data]     Bali\\AppData\\Roaming\\nltk_data...\n",
      "[nltk_data]   Package punkt_tab is already up-to-date!\n"
     ]
    },
    {
     "data": {
      "text/plain": [
       "True"
      ]
     },
     "execution_count": 7,
     "metadata": {},
     "output_type": "execute_result"
    }
   ],
   "source": [
    "import nltk\n",
    "nltk.download('punkt')\n",
    "nltk.download('punkt_tab')\n"
   ]
  },
  {
   "cell_type": "code",
   "execution_count": 8,
   "id": "cb5001a7-32f4-4927-8305-ef39c32c58d8",
   "metadata": {},
   "outputs": [],
   "source": [
    "article.nlp()"
   ]
  },
  {
   "cell_type": "code",
   "execution_count": 9,
   "id": "879afb45-d236-4238-9072-c5b920ce7858",
   "metadata": {},
   "outputs": [],
   "source": [
    "mytext = article.text"
   ]
  },
  {
   "cell_type": "code",
   "execution_count": 10,
   "id": "b029f780-8f84-4e57-aebf-615c86c82520",
   "metadata": {},
   "outputs": [],
   "source": [
    "language = 'en'"
   ]
  },
  {
   "cell_type": "code",
   "execution_count": 11,
   "id": "347855ca-eb96-4dd2-9aa2-ff3b634ad4f3",
   "metadata": {},
   "outputs": [],
   "source": [
    "myobj = gTTS(text = mytext, lang = language, slow = False)"
   ]
  },
  {
   "cell_type": "code",
   "execution_count": 12,
   "id": "b541d3ea-e5ae-48da-a041-70ef311cf626",
   "metadata": {},
   "outputs": [],
   "source": [
    "myobj.save(\"start read_article.mp3\")"
   ]
  },
  {
   "cell_type": "code",
   "execution_count": 28,
   "id": "3fe30dda-b222-4bdc-8e70-705271a77085",
   "metadata": {},
   "outputs": [
    {
     "data": {
      "text/plain": [
       "0"
      ]
     },
     "execution_count": 28,
     "metadata": {},
     "output_type": "execute_result"
    }
   ],
   "source": [
    "os.system(\"start read_article.mp3\")"
   ]
  },
  {
   "cell_type": "markdown",
   "id": "6e5aff03-0103-4810-b427-31d40c90c3ac",
   "metadata": {},
   "source": [
    "### STEPS \n",
    "1. Import the required libraries: newspaper, gTTS, nltk, and os.\n",
    "2. Create an Article object using the target URL.\n",
    "3. Download and parse the article content.\n",
    "4. Download the NLTK tokenizer (punkt) for text processing.\n",
    "5. Apply natural language processing (NLP) to extract the article summary.\n",
    "6. Use gTTS to convert the summary text to speech.\n",
    "7. Save and Play the MP3 file using a system command (e.g., os.system(\"start ...\") on Windows).\n",
    "\n",
    "\n",
    "\n",
    "\n",
    "\n",
    "\n",
    "\n",
    "\n",
    "\n",
    "\n",
    "\n",
    "\n",
    "\n"
   ]
  },
  {
   "cell_type": "code",
   "execution_count": null,
   "id": "74898650-dc05-412b-84a9-b0953d97f7f1",
   "metadata": {},
   "outputs": [],
   "source": []
  }
 ],
 "metadata": {
  "kernelspec": {
   "display_name": "Python [conda env:base] *",
   "language": "python",
   "name": "conda-base-py"
  },
  "language_info": {
   "codemirror_mode": {
    "name": "ipython",
    "version": 3
   },
   "file_extension": ".py",
   "mimetype": "text/x-python",
   "name": "python",
   "nbconvert_exporter": "python",
   "pygments_lexer": "ipython3",
   "version": "3.12.7"
  }
 },
 "nbformat": 4,
 "nbformat_minor": 5
}
