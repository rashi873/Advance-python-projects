{
 "cells": [
  {
   "cell_type": "markdown",
   "id": "ca72a199-42b3-40ae-b756-c9e6f9304d4e",
   "metadata": {},
   "source": [
    "## Fidget spinner game using python"
   ]
  },
  {
   "cell_type": "code",
   "execution_count": null,
   "id": "a6efd46c-95a0-4948-a168-45a750658c14",
   "metadata": {},
   "outputs": [],
   "source": [
    "import turtle\n",
    "from turtle import *\n",
    "state = {'turn':0}\n",
    "def spinner():\n",
    "    clear()\n",
    "    home()\n",
    "    angle = state['turn']/10\n",
    "    right(angle)\n",
    "    for color in ['red', 'green', 'blue']:\n",
    "        forward(100)\n",
    "        dot(120, color)\n",
    "        back(100)\n",
    "        right(120)\n",
    "    update()\n",
    "\n",
    "def animate():\n",
    "    state['turn']+=1\n",
    "\n",
    "    \n",
    "    spinner()\n",
    "    ontimer(animate,20)\n",
    "    \n",
    "def flick():\n",
    "     state['turn']+=1\n",
    "     \n",
    "       \n",
    "      \n",
    "setup(420,420,370,0)\n",
    "hideturtle()\n",
    "tracer(False)\n",
    "width(20)\n",
    "onkey(flick,'space')\n",
    "listen()\n",
    "animate()\n",
    "done()\n",
    "        "
   ]
  },
  {
   "cell_type": "markdown",
   "id": "06ed95a7-62c7-4b47-a6c8-b5dd18c25401",
   "metadata": {},
   "source": [
    "### steps\n",
    "1. Import turtle module to show graphic functions\n",
    "2. create dictionary state to track angle rotation\n",
    "3. define spinner()\n",
    "4. use animate() call spinner() with new angle by using ontime()\n",
    "5. define flick() function in order to spacebar to increase spinner speed\n",
    "6. Set pen width using width(20) (for drawing clarity)\n",
    "7. Assign flick() function to spacebar key using onkey().\n",
    "8. Enable keyboard listening using listen().\n",
    "9. Start the animation loop by calling animate().\n",
    "10. Finish turtle script using done() to keep the window open.\n",
    "\n"
   ]
  }
 ],
 "metadata": {
  "kernelspec": {
   "display_name": "Python [conda env:base] *",
   "language": "python",
   "name": "conda-base-py"
  },
  "language_info": {
   "codemirror_mode": {
    "name": "ipython",
    "version": 3
   },
   "file_extension": ".py",
   "mimetype": "text/x-python",
   "name": "python",
   "nbconvert_exporter": "python",
   "pygments_lexer": "ipython3",
   "version": "3.12.7"
  }
 },
 "nbformat": 4,
 "nbformat_minor": 5
}
