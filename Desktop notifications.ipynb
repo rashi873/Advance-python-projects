{
 "cells": [
  {
   "cell_type": "markdown",
   "id": "e5828083-d561-4f96-a522-017b514aa170",
   "metadata": {},
   "source": [
    "## Customized desktop notifications using python"
   ]
  },
  {
   "cell_type": "code",
   "execution_count": null,
   "id": "99c241cb-4570-43de-84b9-579c32364076",
   "metadata": {},
   "outputs": [],
   "source": [
    "import time\n",
    "from plyer import notification\n",
    "\n",
    "if __name__ == \"__main__\":\n",
    "    while True:\n",
    "        notification.notify( title = \"ALERT!!!!\",message = \"You are doing great job,now let's take a break\", timeout = 30)\n",
    "        time.sleep(3600)\n",
    "\n",
    "    "
   ]
  },
  {
   "cell_type": "markdown",
   "id": "cef3ca24-7770-42c2-9a23-49c98dc252bd",
   "metadata": {},
   "source": [
    "## Steps\n",
    "\n",
    "1. Import `time` and `notification` modules.\n",
    "2. Use `if __name__ == \"__main__\":` to ensure the script runs directly.\n",
    "3. Start an infinite loop using `while True:`.\n",
    "4. Send a desktop notification using `notification.notify()\n",
    "5. Pause the script for 1 hour using `time.sleep(3600)`.\n",
    "6. Repeat steps 4–5 indefinitely.\n"
   ]
  },
  {
   "cell_type": "code",
   "execution_count": null,
   "id": "cba8902b-269d-40eb-ab76-8b9da58fe1e9",
   "metadata": {},
   "outputs": [],
   "source": []
  }
 ],
 "metadata": {
  "kernelspec": {
   "display_name": "Python [conda env:base] *",
   "language": "python",
   "name": "conda-base-py"
  },
  "language_info": {
   "codemirror_mode": {
    "name": "ipython",
    "version": 3
   },
   "file_extension": ".py",
   "mimetype": "text/x-python",
   "name": "python",
   "nbconvert_exporter": "python",
   "pygments_lexer": "ipython3",
   "version": "3.12.7"
  }
 },
 "nbformat": 4,
 "nbformat_minor": 5
}
