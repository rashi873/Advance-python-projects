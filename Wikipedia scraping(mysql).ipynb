{
 "cells": [
  {
   "cell_type": "markdown",
   "id": "3f176743-658d-4c39-a699-d5b7619608f7",
   "metadata": {},
   "source": [
    "## WIKIPEDIA SCRAPPING OF MYSQL USING PYTHON"
   ]
  },
  {
   "cell_type": "code",
   "execution_count": 1,
   "id": "5a085b3f-dede-48b7-be4c-5767f6b82122",
   "metadata": {},
   "outputs": [],
   "source": [
    "import wikipedia as wiki"
   ]
  },
  {
   "cell_type": "code",
   "execution_count": 3,
   "id": "8125dbb6-0ada-4542-8cc9-f98bcfb24e95",
   "metadata": {},
   "outputs": [
    {
     "name": "stdout",
     "output_type": "stream",
     "text": [
      "['SQL', 'Microsoft SQL Server', 'SQL injection', 'NoSQL', 'MySQL', 'History of Microsoft SQL Server', 'PostgreSQL', 'Data definition language', 'Transact-SQL', 'Join (SQL)']\n"
     ]
    }
   ],
   "source": [
    "print(wiki.search(\"SQL\"))"
   ]
  },
  {
   "cell_type": "code",
   "execution_count": 7,
   "id": "e6553d5b-1633-40b6-aedf-ac89e47352b2",
   "metadata": {},
   "outputs": [
    {
     "name": "stdout",
     "output_type": "stream",
     "text": [
      "MySQL () is an open-source relational database management system (RDBMS). Its name is a combination of \"My\", the name of co-founder Michael Widenius's daughter My, and \"SQL\", the acronym for Structured Query Language. A relational database organizes data into one or more data tables in which data may be related to each other; these relations help structure the data. SQL is a language that programmers use to create, modify and extract data from the relational database, as well as control user access to the database. In addition to relational databases and SQL, an RDBMS like MySQL works with an operating system to implement a relational database in a computer's storage system, manages users, allows for network access and facilitates testing database integrity and creation of backups.\n",
      "MySQL is free and open-source software under the terms of the GNU General Public License, and is also available under a variety of proprietary licenses. MySQL was owned and sponsored by the Swedish company MySQL AB, which was bought by Sun Microsystems (now Oracle Corporation). In 2010, when Oracle acquired Sun, Widenius forked the open-source MySQL project to create MariaDB.\n",
      "MySQL has stand-alone clients that allow users to interact directly with a MySQL database using SQL, but more often, MySQL is used with other programs to implement applications that need relational database capability. MySQL is a component of the LAMP web application software stack (and others), which is an acronym for Linux, Apache, MySQL, Perl/PHP/Python. MySQL is used by many database-driven web applications, including Drupal, Joomla, phpBB, and WordPress. MySQL is also used by many popular websites, including Facebook, Flickr, MediaWiki, Twitter, and YouTube.\n",
      "\n",
      "\n"
     ]
    }
   ],
   "source": [
    "print(wiki.summary(\"SQL(MY SQL)\"))"
   ]
  },
  {
   "cell_type": "code",
   "execution_count": 9,
   "id": "72b96882-cf27-493e-969d-e31bacd06968",
   "metadata": {},
   "outputs": [
    {
     "name": "stdout",
     "output_type": "stream",
     "text": [
      "MySQL\n"
     ]
    }
   ],
   "source": [
    "p = wiki.page(\"SQL(MY SQL)\")\n",
    "print(p.title)"
   ]
  },
  {
   "cell_type": "code",
   "execution_count": 11,
   "id": "1a35c7cc-caf5-4737-b072-0699ae79d84f",
   "metadata": {},
   "outputs": [
    {
     "name": "stdout",
     "output_type": "stream",
     "text": [
      "https://en.wikipedia.org/wiki/MySQL\n"
     ]
    }
   ],
   "source": [
    "print(p.url)"
   ]
  },
  {
   "cell_type": "code",
   "execution_count": 13,
   "id": "0b2b3311-0d5e-4a35-8c3d-6f6d87c0688f",
   "metadata": {},
   "outputs": [
    {
     "name": "stdout",
     "output_type": "stream",
     "text": [
      "MySQL () is an open-source relational database management system (RDBMS). Its name is a combination of \"My\", the name of co-founder Michael Widenius's daughter My, and \"SQL\", the acronym for Structured Query Language. A relational database organizes data into one or more data tables in which data may be related to each other; these relations help structure the data. SQL is a language that programmers use to create, modify and extract data from the relational database, as well as control user access to the database. In addition to relational databases and SQL, an RDBMS like MySQL works with an operating system to implement a relational database in a computer's storage system, manages users, allows for network access and facilitates testing database integrity and creation of backups.\n",
      "MySQL is free and open-source software under the terms of the GNU General Public License, and is also available under a variety of proprietary licenses. MySQL was owned and sponsored by the Swedish company MySQL AB, which was bought by Sun Microsystems (now Oracle Corporation). In 2010, when Oracle acquired Sun, Widenius forked the open-source MySQL project to create MariaDB.\n",
      "MySQL has stand-alone clients that allow users to interact directly with a MySQL database using SQL, but more often, MySQL is used with other programs to implement applications that need relational database capability. MySQL is a component of the LAMP web application software stack (and others), which is an acronym for Linux, Apache, MySQL, Perl/PHP/Python. MySQL is used by many database-driven web applications, including Drupal, Joomla, phpBB, and WordPress. MySQL is also used by many popular websites, including Facebook, Flickr, MediaWiki, Twitter, and YouTube.\n",
      "\n",
      "\n",
      "== Overview ==\n",
      "MySQL is written in C and C++. Its SQL parser is written in yacc, but it uses a home-brewed lexical analyzer. MySQL works on many system platforms, including AIX, BSDi, FreeBSD, HP-UX, ArcaOS, eComStation, IBM i, IRIX, Linux, macOS, Microsoft Windows, NetBSD, Novell NetWare, OpenBSD, OpenSolaris, OS/2 Warp, QNX, Oracle Solaris, Symbian, SunOS, SCO OpenServer, SCO UnixWare, Sanos and Tru64. A port of MySQL to OpenVMS also exists.\n",
      "The MySQL server software itself and the client libraries use dual-licensing distribution. They are offered under GPL version 2, or a proprietary license.\n",
      "Support can be obtained from the official manual. Free support additionally is available in different IRC channels and forums. Oracle offers paid support via its MySQL Enterprise products. They differ in the scope of services and in price. Additionally, a number of third party organisations exist to provide support and services.\n",
      "MySQL has received positive reviews, and reviewers noticed it \"performs extremely well in the average case\" and that the \"developer interfaces are there, and the documentation (not to mention feedback in the real world via Web sites and the like) is very, very good\". It has also been tested to be a \"fast, stable and true multi-user, multi-threaded SQL database server\".\n",
      "\n",
      "\n",
      "== History ==\n",
      "\n",
      "MySQL was created by a Swedish company, MySQL AB, founded by Swedes David Axmark and Allan Larsson, along with Finn Michael \"Monty\" Widenius.\n",
      "Original development of MySQL by Widenius and Axmark began in 1994. The first version of MySQL appeared on 23 May 1995. It was initially created for personal usage from mSQL based on the low-level language ISAM, which the creators considered too slow and inflexible. They created a new SQL interface, while keeping the same API as mSQL. By keeping the API consistent with the mSQL system, many developers were able to use MySQL instead of the (proprietarily licensed) mSQL antecedent.\n",
      "\n",
      "\n",
      "=== Milestones ===\n",
      "Additional milestones in MySQL development included:\n",
      "\n",
      "First internal release on 23 May 1995\n",
      "Version 3.19: End of 1996, from www.tcx.se\n",
      "Version 3.20: January 1997\n",
      "Windows version was released on 8 January 1998 for Windows 95 and NT\n",
      "Version 3.21: production release 1998, from www.mysql.com\n",
      "Version 3.22: alpha, beta from 1998\n",
      "Version 3.23: beta from June 2000, production release 22 January 2001\n",
      "Version 4.0: beta from August 2002, production release March 2003 (unions).\n",
      "Version 4.1: beta from June 2004, production release October 2004 (R-trees and B-trees, subqueries, prepared statements).\n",
      "Version 5.0: beta from March 2005, production release October 2005 (cursors, stored procedures, triggers, views, XA transactions).\n",
      "The developer of the Federated Storage Engine states that \"The Federated Storage Engine is a proof-of-concept storage engine\", but the main distributions of MySQL version 5.0 included it and turned it on by default. Documentation of some of the short-comings appears in \"MySQL Federated Tables: The Missing Manual\".\n",
      "Sun Microsystems acquired MySQL AB in 2008.\n",
      "Version 5.1: production release 27 November 2008 (event scheduler, partitioning, plugin API, row-based replication, server log tables)\n",
      "Version 5.1 contained 20 known crashing and wrong result bugs in addition to the 35 present in version 5.0 (almost all fixed as of release 5.1.51).\n",
      "MySQL 5.1 and 6.0-alpha showed poor performance when used for data warehousing –  partly due to its inability to utilize multiple CPU cores for processing a single query.\n",
      "Oracle acquired Sun Microsystems on 27 January 2010.\n",
      "The day Oracle announced the purchase of Sun, Michael \"Monty\" Widenius forked MySQL, launching MariaDB, and took a swath of MySQL developers with him.\n",
      "\n",
      "MySQL Server 5.5 was generally available (as of December 2010). Enhancements and features include:\n",
      "The default storage engine is InnoDB, which supports transactions and referential integrity constraints.\n",
      "Improved InnoDB I/O subsystem\n",
      "Improved SMP support\n",
      "Semisynchronous replication.\n",
      "SIGNAL and RESIGNAL statement in compliance with the SQL standard.\n",
      "Support for supplementary Unicode character sets utf16, utf32, and utf8mb4.\n",
      "New options for user-defined partitioning.\n",
      "MySQL Server 6.0.11-alpha was announced on 22 May 2009 as the last release of the 6.0 line. Future MySQL Server development uses a New Release Model. Features developed for 6.0 are being incorporated into future releases.\n",
      "The general availability of MySQL 5.6 was announced in February 2013. New features included performance improvements to the query optimizer, higher transactional throughput in InnoDB, new NoSQL-style memcached APIs, improvements to partitioning for querying and managing very large tables, TIMESTAMP column type that correctly stores milliseconds, improvements to replication, and better performance monitoring by expanding the data available through the PERFORMANCE_SCHEMA. The InnoDB storage engine also included support for full-text search and improved group commit performance.\n",
      "The general availability of MySQL 5.7 was announced in October 2015. As of MySQL 5.7.8, August 2015, MySQL supports a native JSON data type defined by RFC 7159.\n",
      "MySQL Server 8.0 was announced in April 2018, including NoSQL Document Store, atomic and crash safe DDL sentences and JSON Extended syntax, new functions, such as JSON table functions, improved sorting, and partial updates. Previous MySQL Server 8.0.0-dmr (Milestone Release) was announced 12 September 2016.\n",
      "MySQL was declared DBMS of the year 2019 from the DB-Engines ranking.\n",
      "\n",
      "\n",
      "=== Release history ===\n",
      "\n",
      "Work on version 6 stopped after the Sun Microsystems acquisition. The MySQL Cluster product uses version 7. The decision was made to jump to version 8 as the next major version number.\n",
      "\n",
      "\n",
      "=== Legal disputes and acquisitions ===\n",
      "On 15 June 2001, NuSphere sued MySQL AB, TcX DataKonsult AB and its original authors Michael (\"Monty\") Widenius and David Axmark in U.S. District Court in Boston for \"breach of contract, tortious interference with third party contracts and relationships and unfair competition\".\n",
      "In 2002, MySQL AB sued Progress NuSphere for copyright and trademark infringement in United States district court. NuSphere had allegedly violated MySQL AB's copyright by linking MySQL's GPL'ed code with NuSphere Gemini table without being in compliance with the license. After a preliminary hearing before Judge Patti Saris on 27 February 2002, the parties entered settlement talks and eventually settled. After the hearing, FSF commented that \"Judge Saris made clear that she sees the GNU GPL to be an enforceable and binding license.\"\n",
      "In October 2005, Oracle Corporation acquired Innobase OY, the Finnish company that developed the third-party InnoDB storage engine that allows MySQL to provide such functionality as transactions and foreign keys. After the acquisition, an Oracle press release mentioned that the contracts that make the company's software available to MySQL AB would be due for renewal (and presumably renegotiation) some time in 2006. During the MySQL Users Conference in April 2006, MySQL AB issued a press release that confirmed that MySQL AB and Innobase OY agreed to a \"multi-year\" extension of their licensing agreement.\n",
      "In February 2006, Oracle Corporation acquired Sleepycat Software, makers of the Berkeley DB, a database engine providing the basis for another MySQL storage engine. This had little effect, as Berkeley DB was not widely used, and was dropped (due to lack of use) in MySQL 5.1.12, a pre-GA release of MySQL 5.1 released in October 2006.\n",
      "In January 2008, Sun Microsystems bought MySQL AB for $1 billion.\n",
      "In April 2009, Oracle Corporation entered into an agreement to purchase Sun Microsystems, then owners of MySQL copyright and trademark. Sun's board of directors unanimously approved the deal. It was also approved by Sun's shareholders, and by the U.S. government on 20 August 2009. On 14 December 2009, Oracle pledged to continue to enhance MySQL as it had done for the previous four years.\n",
      "A movement against Oracle's acquisition of MySQL AB, to \"Save MySQL\" from Oracle was started by one of the MySQL AB founders, Monty Widenius. The petition of 50,000+ developers and users called upon the European Commission to block approval of the acquisition. At the same time, some Free Software opinion leaders (including Pamela Jones of Groklaw, Jan Wildeboer and Carlo Piana, who also acted as co-counsel in the merger regulation procedure) advocated for the unconditional approval of the merger. As part of the negotiations with the European Commission, Oracle committed that MySQL server will continue until at least 2015 to use the dual-licensing strategy long used by MySQL AB, with proprietary and GPL versions available. The antitrust of the EU had been \"pressuring it to divest MySQL as a condition for approval of the merger\". But the US Department of Justice, at the request of Oracle, pressured the EU to approve the merger unconditionally. The European Commission eventually unconditionally approved Oracle's acquisition of MySQL AB on 21 January 2010.\n",
      "In January 2010, before Oracle's acquisition of MySQL AB, Monty Widenius started a GPL-only fork, MariaDB. MariaDB is based on the same code base as MySQL server 5.5 and aims to maintain compatibility with Oracle-provided versions.\n",
      "\n",
      "\n",
      "== Features ==\n",
      "MySQL is offered under two different editions: the open source MySQL Community Server and the proprietary Enterprise Server. MySQL Enterprise Server is differentiated by a series of proprietary extensions which install as server plugins, but otherwise shares the version numbering system and is built from the same code base.\n",
      "Major features as available in MySQL 5.6:\n",
      "\n",
      "A broad subset of ANSI SQL 99, as well as extensions\n",
      "Cross-platform support\n",
      "Stored procedures, using a procedural language that closely adheres to SQL/PSM\n",
      "Triggers\n",
      "Cursors\n",
      "Updatable views\n",
      "Online Data Definition Language (DDL) when using the InnoDB Storage Engine.\n",
      "Information schema\n",
      "Performance Schema that collects and aggregates statistics about server execution and query performance for monitoring purposes.\n",
      "A set of SQL Mode options to control runtime behavior, including a strict mode to better adhere to SQL standards.\n",
      "X/Open XA distributed transaction processing (DTP) support; two phase commit as part of this, using the default InnoDB storage engine\n",
      "Transactions with savepoints when using the default InnoDB Storage Engine. The NDB Cluster Storage Engine also supports transactions.\n",
      "ACID compliance when using InnoDB and NDB Cluster Storage Engines\n",
      "SSL support\n",
      "Query caching\n",
      "Sub-SELECTs (i.e. nested SELECTs)\n",
      "Built-in replication support\n",
      "Asynchronous replication: master-slave from one master to many slaves or many masters to one slave\n",
      "Semi synchronous replication: Master to slave replication where the master waits on replication\n",
      "Synchronous replication: Multi-master replication is provided in MySQL Cluster.\n",
      "Virtual Synchronous: Self managed groups of MySQL servers with multi master support can be done using: Galera Cluster or the built in Group Replication plugin\n",
      "Full-text indexing and searching\n",
      "Embedded database library\n",
      "Unicode support\n",
      "Partitioned tables with pruning of partitions in optimizer\n",
      "Shared-nothing clustering through MySQL Cluster\n",
      "Multiple storage engines, allowing one to choose the one that is most effective for each table in the application.\n",
      "Native storage engines InnoDB, MyISAM, Merge, Memory (heap), Federated, Archive, CSV, Blackhole, NDB Cluster.\n",
      "Commit grouping, gathering multiple transactions from multiple connections together to increase the number of commits per second.\n",
      "The developers release minor updates of the MySQL Server approximately every two months. The sources can be obtained from MySQL's website or from MySQL's GitHub repository, both under the GPL license.\n",
      "\n",
      "\n",
      "=== Limitations ===\n",
      "When using some storage engines other than the default of InnoDB, MySQL does not comply with the full SQL standard for some of the implemented functionality, including foreign key references. Check constraints are parsed but ignored by all storage engines before MySQL version 8.0.15.\n",
      "Up until MySQL 5.7, triggers are limited to one per action / timing, meaning that at most one trigger can be defined to be executed after an INSERT operation, and one before INSERT on the same table.\n",
      "No triggers can be defined on views.\n",
      "Before MySQL 8.0.28, inbuilt functions like UNIX_TIMESTAMP() would return 0 after 03:14:07 UTC on 19 January 2038. In 2017, an attempt to solve the problem was submitted, but was not used for the final solution that was shipped in 2022.\n",
      "\n",
      "\n",
      "=== Deployment ===\n",
      "MySQL can be built and installed manually from source code, but it is more commonly installed from a binary package unless special customizations are required. On most Linux distributions, the package management system can download and install MySQL with minimal effort, though further configuration is often required to adjust security and optimization settings.\n",
      "\n",
      "Though MySQL began as a low-end alternative to more powerful proprietary databases, it has gradually evolved to support higher-scale needs as well. It is still most commonly used in small to medium scale single-server deployments, either as a component in a LAMP-based web application or as a standalone database server. Much of MySQL's appeal originates in its relative simplicity and ease of use, which is enabled by an ecosystem of open source tools such as phpMyAdmin.\n",
      "In the medium range, MySQL can be scaled by deploying it on more powerful hardware, such as a multi-processor server with gigabytes of memory.\n",
      "There are, however, limits to how far performance can scale on a single server ('scaling up'), so on larger scales, multi-server MySQL ('scaling out') deployments are required to provide improved performance and reliability. A typical high-end configuration can include a powerful master database which handles data write operations and is replicated to multiple slaves that handle all read operations. The master server continually pushes binlog events to connected slaves so in the event of failure a slave can be promoted to become the new master, minimizing downtime. Further improvements in performance can be achieved by caching the results from database queries in memory using memcached, or breaking down a database into smaller chunks called shards which can be spread across a number of distributed server clusters.\n",
      "\n",
      "\n",
      "=== High availability software ===\n",
      "Oracle MySQL offers a high availability solution with a mix of tools including the MySQL router and the MySQL shell. They are based on Group Replication, open source tools.\n",
      "MariaDB offers a similar offer in terms of products.\n",
      "\n",
      "\n",
      "=== Cloud deployment ===\n",
      "\n",
      "MySQL can also be run on cloud computing platforms such as Microsoft Azure, Amazon Elastic Compute Cloud, and Oracle Cloud Infrastructure. Some common deployment models for MySQL on the cloud are:\n",
      "\n",
      "Virtual machine image\n",
      "In this implementation, cloud users can upload a machine image of their own with MySQL installed, or use a ready-made machine image with an optimized installation of MySQL on it, such as the one provided by Amazon EC2.\n",
      "MySQL as a service\n",
      "Some cloud platforms offer MySQL \"as a service\". In this configuration, application owners do not have to install and maintain the MySQL database on their own. Instead, the database service provider takes responsibility for installing and maintaining the database, and application owners pay according to their usage. Notable cloud-based MySQL services are the Amazon Relational Database Service; Oracle MySQL HeatWave Database Service, Azure Database for MySQL, Rackspace; HP Converged Cloud; Heroku and Jelastic. In this model the database service provider takes responsibility for maintaining the host and database.\n",
      "\n",
      "\n",
      "== User interfaces ==\n",
      "\n",
      "\n",
      "=== Graphical user interfaces ===\n",
      "A graphical user interface (GUI) is a type of interface that allows users to interact with electronic devices or programs through graphical icons and visual indicators such as secondary notation, as opposed to text-based interfaces, typed command labels or text navigation.\n",
      "Third-party proprietary and free graphical administration applications (or \"front ends\") are available that integrate with MySQL and enable users to work with database structure and data visually.\n",
      "\n",
      "\n",
      "==== MySQL Workbench ====\n",
      "\n",
      "MySQL Workbench is the integrated environment for MySQL. It was developed by MySQL AB, and enables users to graphically administer MySQL databases and visually design database structures.\n",
      "MySQL Workbench is available in three editions, the regular free and open source Community Edition which may be downloaded from the MySQL website, and the proprietary Standard Edition which extends and improves the feature set of the Community Edition, and the MySQL Cluster CGE.\n",
      "\n",
      "\n",
      "==== Other GUI tools ====\n",
      "Adminer\n",
      "Database Workbench\n",
      "DBeaver\n",
      "DBEdit\n",
      "DbForge\n",
      "HeidiSQL\n",
      "LibreOffice Base\n",
      "Navicat\n",
      "OpenOffice.org Base\n",
      "phpMyAdmin\n",
      "SQLBuddy\n",
      "SQLyog\n",
      "Toad for MySQL\n",
      "Webmin\n",
      "\n",
      "\n",
      "=== Command-line interfaces ===\n",
      "A command-line interface is a means of interacting with a computer program where the user issues commands to the program by typing in successive lines of text (command lines). MySQL ships with many command line tools, from which the main interface is the mysql client.\n",
      "MySQL Utilities is a set of utilities designed to perform common maintenance and administrative tasks. Originally included as part of the MySQL Workbench, the utilities are a stand-alone download available from Oracle.\n",
      "Percona Toolkit is a cross-platform toolkit for MySQL, developed in Perl. Percona Toolkit can be used to prove replication is working correctly, fix corrupted data, automate repetitive tasks, and speed up servers. Percona Toolkit is included with several Linux distributions such as CentOS and Debian, and packages are available for Fedora and Ubuntu as well. Percona Toolkit was originally developed as Maatkit, but as of late 2011, Maatkit is no longer developed.\n",
      "MySQL shell is a tool for interactive use and administration of the MySQL database. It supports JavaScript, Python or SQL modes and it can be used for administration and access purposes.\n",
      "\n",
      "\n",
      "== Application programming interfaces ==\n",
      "Many programming languages with language-specific APIs include libraries for accessing MySQL databases. These include MySQL Connector/Net for .NET/CLI Languages, and the JDBC driver for Java.\n",
      "In addition, an ODBC interface called MySQL Connector/ODBC allows additional programming languages that support the ODBC interface to communicate with a MySQL database, such as ASP or ColdFusion. The HTSQL –  URL-based query method also ships with a MySQL adapter, allowing direct interaction between a MySQL database and any web client via structured URLs. Other drivers exists for languages like Python or Node.js.\n",
      "\n",
      "\n",
      "== Project forks ==\n",
      "A variety of MySQL forks exist, including the following.\n",
      "\n",
      "\n",
      "=== Current ===\n",
      "MariaDB\n",
      "MariaDB is a community-developed fork of the MySQL relational database management system intended to remain free under the GNU GPL. The fork has been led by the original developers of MySQL, who forked it due to concerns over its acquisition by Oracle.\n",
      "Percona Server for MySQL\n",
      "Percona Server for MySQL, forked by Percona, aims to retain close compatibility to the official MySQL releases. Also included in Percona Server for MySQL is XtraDB, Percona's fork of the InnoDB Storage Engine.\n",
      "\n",
      "\n",
      "=== Abandoned ===\n",
      "Drizzle\n",
      "Drizzle was a free software/open source relational database management system (DBMS) that was forked from the now-defunct 6.0 development branch of the MySQL DBMS. Like MySQL, Drizzle had a client/server architecture and uses SQL as its primary command language. Drizzle was distributed under version 2 and 3 of the GNU General Public License (GPL) with portions, including the protocol drivers and replication messaging under the BSD license.\n",
      "WebScaleSQL\n",
      "WebScaleSQL was a software branch of MySQL 5.6, and was announced on 27 March 2014 by Facebook, Google, LinkedIn and Twitter as a joint effort to provide a centralized development structure for extending MySQL with new features specific to its large-scale deployments, such as building large replicated databases running on server farms. Thus, WebScaleSQL opened a path toward deduplicating the efforts each company had been putting into maintaining its own branch of MySQL, and toward bringing together more developers. By combining the efforts of these companies and incorporating various changes and new features into MySQL, WebScaleSQL aimed at supporting the deployment of MySQL in large-scale environments. The project's source code is licensed under version 2 of the GNU General Public License, and is hosted on GitHub.\n",
      "OurDelta\n",
      "The OurDelta distribution, created by the Australian company Open Query (later acquired by Catalyst IT Australia), had two versions: 5.0, which was based on MySQL, and 5.1, which was based on MariaDB. It included patches developed by Open Query and by other notable members of the MySQL community including Jeremy Cole and Google. Once the patches were incorporated into the MariaDB mainline, OurDelta's objectives were achieved and OurDelta passed on its build and packaging toolchain to Monty Program (now MariaDB Plc).\n",
      "\n",
      "\n",
      "== See also ==\n",
      "\n",
      "Comparison of database administration tools\n",
      "Comparison of MySQL database engines\n",
      "Comparison of relational database management systems\n",
      "\n",
      "\n",
      "== Notes ==\n",
      "\n",
      "\n",
      "== References ==\n",
      "\n",
      "\n",
      "== External links ==\n",
      " Media related to MySQL at Wikimedia Commons\n",
      "\n",
      "Official website\n",
      "MySQL at Oracle\n"
     ]
    }
   ],
   "source": [
    "print(p.content)"
   ]
  },
  {
   "cell_type": "code",
   "execution_count": 15,
   "id": "460f2f79-9c89-4caf-8961-9507ec608148",
   "metadata": {},
   "outputs": [
    {
     "name": "stdout",
     "output_type": "stream",
     "text": [
      "['https://upload.wikimedia.org/wikipedia/commons/3/31/Free_and_open-source_software_logo_%282009%29.svg', 'https://upload.wikimedia.org/wikipedia/commons/b/b7/Geir_H%C3%B8ydalsvik_at_Percona_Live_Europe_2018_3.jpg', 'https://upload.wikimedia.org/wikipedia/commons/8/82/LAMP_software_bundle.svg', 'https://upload.wikimedia.org/wikipedia/commons/8/8e/Monty-Widenius-David-Axmark-MySQL-2003-05-09.jpg', 'https://upload.wikimedia.org/wikipedia/commons/d/dd/Mysql-screenshot.PNG', 'https://upload.wikimedia.org/wikipedia/commons/8/8b/Sun-Logo.svg', 'https://upload.wikimedia.org/wikipedia/commons/9/9c/The_MySQL_Workbench_startup_screen.png', 'https://upload.wikimedia.org/wikipedia/commons/d/df/Wikibooks-logo-en-noslogan.svg', 'https://upload.wikimedia.org/wikipedia/en/4/4a/Commons-logo.svg', 'https://upload.wikimedia.org/wikipedia/en/d/dd/MySQL_logo.svg', 'https://upload.wikimedia.org/wikipedia/en/8/8a/OOjs_UI_icon_edit-ltr-progressive.svg', 'https://upload.wikimedia.org/wikipedia/en/9/96/Symbol_category_class.svg']\n"
     ]
    }
   ],
   "source": [
    "print(p.images)"
   ]
  },
  {
   "cell_type": "code",
   "execution_count": 17,
   "id": "f69f6b0e-92f7-4382-b479-53b6bb08208f",
   "metadata": {},
   "outputs": [
    {
     "name": "stdout",
     "output_type": "stream",
     "text": [
      "['ACID', 'AIX operating system', 'API', 'Acquisition of Sun Microsystems by Oracle Corporation', 'Active Server Pages', 'Adminer', 'Adobe ColdFusion', 'Afara Websystems', 'Amazon Elastic Compute Cloud', 'Amazon Relational Database Service', 'Amazon Web Services', 'Andy Bechtolsheim', 'Apache HTTP Server', 'ArcaOS', 'Aria (storage engine)', 'B-tree', 'BEA Systems', 'BSD/OS', 'BSD licenses', 'Basic Multilingual Plane', 'Berkeley DB', 'Bill Joy', 'BlueJ', 'C++', 'C (programming language)', 'Cache (computing)', 'Carlo Piana', 'CentOS', 'Cerner', 'Client/server', 'Cloud computing', 'Cloud database', 'Cobalt Networks', 'Cobalt Qube', 'Cobalt RaQ', 'Comma-separated values', 'Command-line interface', 'Command language', 'Command line', 'Common Development and Distribution License', 'Comparison of MySQL database engines', 'Comparison of database administration tools', 'Comparison of relational database management systems', 'Computerworld', 'Copyright infringement', 'Curriki', 'Cursor (databases)', 'DB-Engines ranking', 'DBEdit', 'DBeaver', 'DTrace', 'Data Definition Language', 'Data warehousing', 'Database Workbench', 'Database replication', 'Database transaction', 'Database trigger', 'Datadog', 'David Axmark', 'DbForge', 'Debian', 'Distributed transaction processing', 'Doi (identifier)', 'Donald L. Lucas', 'Drizzle (database server)', 'Drupal', 'Dual license', 'EComStation', 'English language', 'Essbase', 'Facebook', 'Falcon (storage engine)', 'Fedora Linux', 'Finland', 'Finns', 'Fireplane', 'Flickr', 'Foreign key', 'Fork (software development)', 'Fortress (programming language)', 'FreeBSD', 'Free Software Foundation', 'Free and open-source software', 'Free and open source software', 'GNU General Public License', 'GitHub', 'GlassFish', 'Google LLC v. Oracle America, Inc.', 'Graphical user interface', 'Gridware', 'Groklaw', 'H. Raymond Bingham', 'HP-UX', 'HP Converged Cloud', 'HTSQL', 'HeidiSQL', 'Heroku', 'HotSpot (virtual machine)', 'Hyperion Solutions', 'Héctor García-Molina', 'IBM i', 'IPlanet', 'IRIX', 'ISAM', 'ISBN (identifier)', 'Image Packaging System', 'Index (database)', 'Information schema', 'InnoDB', 'Innobase', 'JD Edwards', 'JDeveloper', 'JSON', 'Jack Kemp', 'JavaStation', 'Java (programming language)', 'Java (software platform)', 'Java Community Process', 'Java Desktop System', 'Jeffrey Berg', 'Jeffrey O. Henley', 'Jelastic', 'Joomla', 'Joseph Grundfest', 'LAMP (software bundle)', 'LOM port', 'Larry Ellison', 'Lexical analysis', 'Library (computing)', 'LibreOffice Base', 'Lighthouse Design', 'Linux', 'Linux distribution', 'List of AMP packages', 'List of CLI languages', 'List of Sun Microsystems employees', 'List of acquisitions by Oracle', 'Lustre (file system)', 'MAJC', 'MB86900', 'MBus (SPARC)', 'MSQL', 'MacOS', 'MariaDB', 'Mark Hurd', 'Master/slave (technology)', 'Maxine Virtual Machine', 'MediaWiki', 'Memcached', 'Memory (storage engine)', 'Michael Boskin', 'Michael Widenius', 'MicroSPARC', 'Microsoft Azure', 'Microsoft Windows', 'Montalvo Systems', 'Monty Widenius', 'Multi-master replication', 'MyISAM', 'MyRocks', 'MySQL AB', 'MySQL Archive', 'MySQL Cluster', 'MySQL Connector/ODBC', 'MySQL Enterprise', 'MySQL Federated', 'MySQL Workbench', 'NIS+', 'Nashorn (JavaScript engine)', 'Navicat', 'NeWS', 'NetBSD', 'NetBeans', 'NetSuite', 'Network File System', 'Network Information Service', 'News release', 'NoSQL', 'Node.js', 'Novell NetWare', 'OCFS2', 'ODBC', 'OS/2', 'Open-source', 'Open-source software', 'OpenBSD', 'OpenJDK', 'OpenOffice.org', 'OpenSPARC', 'OpenSolaris', 'OpenVMS', 'OpenWindows', 'Open Source University Meetup', 'Operating system', 'Opinion leadership', 'Oracle Application Express', 'Oracle Big Data Appliance', 'Oracle Certification Program', 'Oracle Cloud', 'Oracle Coherence', 'Oracle Corporation', 'Oracle Database', 'Oracle Developer Studio', 'Oracle Exadata', 'Oracle Exalogic', 'Oracle Forms', 'Oracle Fusion Middleware', 'Oracle Grid Engine', 'Oracle Labs', 'Oracle Linux', 'Oracle NoSQL Database', 'Oracle Rdb', 'Oracle SOA Suite', 'Oracle SQL Developer', 'Oracle Secure Global Desktop', 'Oracle Solaris', 'Oracle VM Server for x86', 'Oracle WebCenter', 'Oracle WebLogic Server', 'Oracle ZFS', 'PC World', 'PHP', 'PL/SQL', 'Package management system', 'Packt Publishing', 'Pamela Jones', 'Partition (database)', 'Patti B. Saris', 'PeopleSoft', 'Percona', 'Percona Server for MySQL', 'Perl', 'PhpBB', 'PhpMyAdmin', 'PicoJava', 'Pixo', 'Procom Technology', 'Programmer', 'Programming language', 'Progress Software Corporation v. MySQL AB', 'Project Looking Glass', 'Proof of concept', 'Proprietary software', 'Python (programming language)', 'QFS', 'QNX', 'Query optimizer', 'R-tree', 'Rackspace', 'ReadWriteWeb', 'Relational database', 'Relational database management system', 'Repository (version control)', 'RightNow Technologies', 'Rock (processor)', 'Run time (program lifecycle phase)', 'SBus', 'SCO OpenServer', 'SPARC', 'SPARC Enterprise', 'SPARC T-Series', 'SPARC T3', 'SPARC T4', 'SPARC T5', 'SPARC T series', 'SPARCclassic', 'SPARCstation', 'SPARCstation 1', 'SPARCstation 10', 'SPARCstation 2', 'SPARCstation 20', 'SPARCstation 4', 'SPARCstation 5', 'SPARCstation IPC', 'SPARCstation IPX', 'SPARCstation LX', 'SPARCstation ZX', 'SQL', 'SQL/PSM', 'SQL:1999', 'SQLBuddy', 'SQLyog', 'Safra Catz', 'SavaJe', 'Savepoint', 'Scott McNealy', 'Screenshot', 'Secure Sockets Layer', 'Select (SQL)', 'Server log', 'Set operations (SQL)', 'Shard (database architecture)', 'Shared-nothing', 'Siebel Systems', 'Sleepycat Software', 'Software categories', 'Software license', 'Software release life cycle', 'Software stack', 'Solaris (operating system)', 'Squid (software)', 'StarOffice', 'StorageTek', 'StorageTek SL8500', 'Storage Technology Corporation', 'Stored procedure', 'Structured Query Language', 'Sun-1', 'Sun-2', 'Sun-3', 'Sun-4', 'Sun386i', 'Sun4d', 'SunOS', 'SunView', 'Sun Blade', 'Sun Blade (workstation)', 'Sun Cloud', 'Sun Constellation System', 'Sun Enterprise', 'Sun Enterprise 10000', 'Sun Fire', 'Sun Fire 12K', 'Sun Fire 15K', 'Sun Fire E25K', 'Sun Fire T2000', 'Sun Fire X4500', 'Sun Java System', 'Sun Java Workstation', 'Sun Microsystems', 'Sun Modular Datacenter', 'Sun Neptune', 'Sun Netra', 'Sun Open Storage', 'Sun Ray', 'Sun SPOT', 'Sun StorageTek 5800 System', 'Sun Ultra', 'Sun Visualization System', 'Sun xVM', 'Sunopsis', 'SuperSPARC', 'Sweden', 'Swedes', 'Symbian', 'Symmetric multiprocessing', 'System Service Processor', 'System platform', 'Tarantella, Inc.', 'The Network is the Computer', 'The New York Times', 'The Register', 'TimesTen', 'Toad (software)', 'TokuDB', 'Tortious interference', 'Trademark infringement', 'Tru64 UNIX', 'Tuxedo (software)', 'Twitter', 'Two-phase commit protocol', 'U.S. District Court for the District of Massachusetts', 'URL', 'UTC', 'UTF-16/UCS-2', 'UTF-8', 'Ubuntu', 'UltraSPARC', 'UltraSPARC II', 'UltraSPARC III', 'UltraSPARC IV', 'UltraSPARC T1', 'UltraSPARC T2', 'Ultra 1', 'Ultra 2', 'Ultra 24', 'Ultra 30', 'Ultra 5/10', 'Ultra 60', 'Ultra 80', 'Ultra Port Architecture', 'Unicode', 'United States Department of Justice', 'UnixWare', 'View (SQL)', 'Vinod Khosla', 'VirtualBox', 'Virtual Iron', 'Virtual machine image', 'Virtual synchrony', 'VisualVM', 'Visual Instruction Set', 'WebScaleSQL', 'Web application', 'Webmin', 'Website', 'Wired (magazine)', 'WordPress', 'Write once, run anywhere', 'X/Open XA', 'XtraDB', 'Yacc', 'Year 2038 problem', 'YouTube', 'ZDNet', 'ZFS+']\n"
     ]
    }
   ],
   "source": [
    "print(p.links)"
   ]
  }
 ],
 "metadata": {
  "kernelspec": {
   "display_name": "Python [conda env:base] *",
   "language": "python",
   "name": "conda-base-py"
  },
  "language_info": {
   "codemirror_mode": {
    "name": "ipython",
    "version": 3
   },
   "file_extension": ".py",
   "mimetype": "text/x-python",
   "name": "python",
   "nbconvert_exporter": "python",
   "pygments_lexer": "ipython3",
   "version": "3.12.7"
  }
 },
 "nbformat": 4,
 "nbformat_minor": 5
}
